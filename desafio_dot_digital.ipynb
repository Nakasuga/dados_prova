{
 "cells": [
  {
   "cell_type": "markdown",
   "metadata": {},
   "source": [
    "# Desafio para a vaga de Cientista de dados - DOT digital group\n",
    "## Candidato: Wagner Massayuki Nakasuga"
   ]
  },
  {
   "cell_type": "markdown",
   "metadata": {},
   "source": [
    "### Introdução\n",
    "\n",
    "Com uma base de dados contendo informações de alunos, serão feitas análises utilizando seus perfis para obter informações sobre as chances deles serem aprovados ou não. A base de dados possui as seguintes informações:\n",
    "    \n",
    "    Unnamed: em princípio, seria a identificação de cada aluno;\n",
    "    Prova realizada em: local da prova;\n",
    "    Dia da prova realizada em: data da prova;\n",
    "    Nota: nota de 0 a 10;\n",
    "    Nota da redação: nota da redação de 0 a 2,5;\n",
    "    Horário da prova: período de realização da prova;\n",
    "    Sexo: sexo do aluno;\n",
    "    Estado civil: estado civil do aluno;\n",
    "    Escolaridade: escolaridade máxima do aluno;\n",
    "    Cidade de nascimento: cidade de nascimento do aluno;\n",
    "    Bairro onde reside: bairro de residência do aluno.\n",
    "\n"
   ]
  },
  {
   "cell_type": "code",
   "execution_count": 1,
   "metadata": {},
   "outputs": [],
   "source": [
    "# pacotes iniciais a serem utilizados\n",
    "import pandas as pd\n",
    "import numpy as np\n",
    "import matplotlib.pyplot as plt\n",
    "\n",
    "from sklearn.preprocessing import LabelEncoder\n",
    "from sklearn.preprocessing import StandardScaler\n",
    "from sklearn.model_selection import train_test_split\n",
    "from sklearn.naive_bayes import GaussianNB\n",
    "from sklearn.tree import DecisionTreeClassifier\n",
    "from sklearn.ensemble import RandomForestClassifier\n",
    "from sklearn.neighbors import KNeighborsClassifier\n",
    "from sklearn.neural_network import MLPClassifier\n",
    "from sklearn.svm import SVC\n",
    "from sklearn.metrics import accuracy_score\n",
    "\n",
    "%matplotlib inline"
   ]
  },
  {
   "cell_type": "code",
   "execution_count": 2,
   "metadata": {},
   "outputs": [],
   "source": [
    "base = pd.read_csv('DOT_teste_data_science.csv', encoding = \"ISO-8859-1\", decimal = ',')"
   ]
  },
  {
   "cell_type": "code",
   "execution_count": 3,
   "metadata": {},
   "outputs": [
    {
     "data": {
      "text/html": [
       "<div>\n",
       "<style scoped>\n",
       "    .dataframe tbody tr th:only-of-type {\n",
       "        vertical-align: middle;\n",
       "    }\n",
       "\n",
       "    .dataframe tbody tr th {\n",
       "        vertical-align: top;\n",
       "    }\n",
       "\n",
       "    .dataframe thead th {\n",
       "        text-align: right;\n",
       "    }\n",
       "</style>\n",
       "<table border=\"1\" class=\"dataframe\">\n",
       "  <thead>\n",
       "    <tr style=\"text-align: right;\">\n",
       "      <th></th>\n",
       "      <th>Unnamed: 0</th>\n",
       "      <th>prova_realizada_em</th>\n",
       "      <th>dia_da_prova_realizada</th>\n",
       "      <th>nota</th>\n",
       "      <th>nota_redacao</th>\n",
       "      <th>horario_da_prova</th>\n",
       "      <th>sexo</th>\n",
       "      <th>estado_civil</th>\n",
       "      <th>escolaridade</th>\n",
       "      <th>cidade_de_nascimento</th>\n",
       "      <th>bairro</th>\n",
       "    </tr>\n",
       "  </thead>\n",
       "  <tbody>\n",
       "    <tr>\n",
       "      <th>0</th>\n",
       "      <td>0</td>\n",
       "      <td>GO - Goiás</td>\n",
       "      <td>13/01/2017</td>\n",
       "      <td>7.45</td>\n",
       "      <td>2.2</td>\n",
       "      <td>manhã</td>\n",
       "      <td>Masculino</td>\n",
       "      <td>Casado(a)</td>\n",
       "      <td>Ensino médio</td>\n",
       "      <td>fortaleza</td>\n",
       "      <td>Asa Sul</td>\n",
       "    </tr>\n",
       "    <tr>\n",
       "      <th>1</th>\n",
       "      <td>1</td>\n",
       "      <td>GO - Goiás</td>\n",
       "      <td>10/01/2017</td>\n",
       "      <td>7.40</td>\n",
       "      <td>2.4</td>\n",
       "      <td>manhã</td>\n",
       "      <td>Masculino</td>\n",
       "      <td>Casado(a)</td>\n",
       "      <td>Especialização</td>\n",
       "      <td>Recife</td>\n",
       "      <td>Norte (Águas Claras)</td>\n",
       "    </tr>\n",
       "    <tr>\n",
       "      <th>2</th>\n",
       "      <td>2</td>\n",
       "      <td>GO - Goiás</td>\n",
       "      <td>07/01/2017</td>\n",
       "      <td>7.30</td>\n",
       "      <td>1.8</td>\n",
       "      <td>manhã</td>\n",
       "      <td>Masculino</td>\n",
       "      <td>Casado(a)</td>\n",
       "      <td>Superior</td>\n",
       "      <td>BRASILIA</td>\n",
       "      <td>Setor Sudoeste</td>\n",
       "    </tr>\n",
       "    <tr>\n",
       "      <th>3</th>\n",
       "      <td>3</td>\n",
       "      <td>GO - Goiás</td>\n",
       "      <td>02/01/2017</td>\n",
       "      <td>7.20</td>\n",
       "      <td>1.7</td>\n",
       "      <td>Noite</td>\n",
       "      <td>Masculino</td>\n",
       "      <td>Solteiro(a)</td>\n",
       "      <td>Ensino médio</td>\n",
       "      <td>Brasília</td>\n",
       "      <td>Setor Norte</td>\n",
       "    </tr>\n",
       "    <tr>\n",
       "      <th>4</th>\n",
       "      <td>4</td>\n",
       "      <td>GO - Goiás</td>\n",
       "      <td>09/01/2017</td>\n",
       "      <td>6.95</td>\n",
       "      <td>1.7</td>\n",
       "      <td>manhã</td>\n",
       "      <td>Feminino</td>\n",
       "      <td>Solteiro(a)</td>\n",
       "      <td>Superior</td>\n",
       "      <td>BRASÍLIA</td>\n",
       "      <td>Guará I</td>\n",
       "    </tr>\n",
       "  </tbody>\n",
       "</table>\n",
       "</div>"
      ],
      "text/plain": [
       "   Unnamed: 0 prova_realizada_em dia_da_prova_realizada  nota  nota_redacao  \\\n",
       "0           0         GO - Goiás             13/01/2017  7.45           2.2   \n",
       "1           1         GO - Goiás             10/01/2017  7.40           2.4   \n",
       "2           2         GO - Goiás             07/01/2017  7.30           1.8   \n",
       "3           3         GO - Goiás             02/01/2017  7.20           1.7   \n",
       "4           4         GO - Goiás             09/01/2017  6.95           1.7   \n",
       "\n",
       "  horario_da_prova       sexo estado_civil    escolaridade  \\\n",
       "0            manhã  Masculino    Casado(a)    Ensino médio   \n",
       "1            manhã  Masculino    Casado(a)  Especialização   \n",
       "2            manhã  Masculino    Casado(a)        Superior   \n",
       "3            Noite  Masculino  Solteiro(a)    Ensino médio   \n",
       "4            manhã   Feminino  Solteiro(a)        Superior   \n",
       "\n",
       "  cidade_de_nascimento                bairro  \n",
       "0            fortaleza               Asa Sul  \n",
       "1               Recife  Norte (Águas Claras)  \n",
       "2             BRASILIA        Setor Sudoeste  \n",
       "3             Brasília           Setor Norte  \n",
       "4             BRASÍLIA               Guará I  "
      ]
     },
     "execution_count": 3,
     "metadata": {},
     "output_type": "execute_result"
    }
   ],
   "source": [
    "base.head()"
   ]
  },
  {
   "cell_type": "markdown",
   "metadata": {},
   "source": [
    "Note que os números das colunas nota e nota redação foram alteradas de vírgula para ponto, pois o pacote pandas não consegue analisar dados com vírgula."
   ]
  },
  {
   "cell_type": "code",
   "execution_count": 4,
   "metadata": {},
   "outputs": [
    {
     "data": {
      "text/plain": [
       "(12100, 11)"
      ]
     },
     "execution_count": 4,
     "metadata": {},
     "output_type": "execute_result"
    }
   ],
   "source": [
    "# verificando a dimensão dos dados\n",
    "base.shape"
   ]
  },
  {
   "cell_type": "code",
   "execution_count": 5,
   "metadata": {},
   "outputs": [
    {
     "data": {
      "text/html": [
       "<div>\n",
       "<style scoped>\n",
       "    .dataframe tbody tr th:only-of-type {\n",
       "        vertical-align: middle;\n",
       "    }\n",
       "\n",
       "    .dataframe tbody tr th {\n",
       "        vertical-align: top;\n",
       "    }\n",
       "\n",
       "    .dataframe thead th {\n",
       "        text-align: right;\n",
       "    }\n",
       "</style>\n",
       "<table border=\"1\" class=\"dataframe\">\n",
       "  <thead>\n",
       "    <tr style=\"text-align: right;\">\n",
       "      <th></th>\n",
       "      <th>Unnamed: 0</th>\n",
       "      <th>nota</th>\n",
       "      <th>nota_redacao</th>\n",
       "    </tr>\n",
       "  </thead>\n",
       "  <tbody>\n",
       "    <tr>\n",
       "      <th>count</th>\n",
       "      <td>12100.000000</td>\n",
       "      <td>12100.000000</td>\n",
       "      <td>12100.000000</td>\n",
       "    </tr>\n",
       "    <tr>\n",
       "      <th>mean</th>\n",
       "      <td>6049.500000</td>\n",
       "      <td>4.577988</td>\n",
       "      <td>0.874373</td>\n",
       "    </tr>\n",
       "    <tr>\n",
       "      <th>std</th>\n",
       "      <td>3493.113463</td>\n",
       "      <td>1.704218</td>\n",
       "      <td>0.855287</td>\n",
       "    </tr>\n",
       "    <tr>\n",
       "      <th>min</th>\n",
       "      <td>0.000000</td>\n",
       "      <td>0.750000</td>\n",
       "      <td>0.000000</td>\n",
       "    </tr>\n",
       "    <tr>\n",
       "      <th>25%</th>\n",
       "      <td>3024.750000</td>\n",
       "      <td>3.000000</td>\n",
       "      <td>0.000000</td>\n",
       "    </tr>\n",
       "    <tr>\n",
       "      <th>50%</th>\n",
       "      <td>6049.500000</td>\n",
       "      <td>4.850000</td>\n",
       "      <td>1.100000</td>\n",
       "    </tr>\n",
       "    <tr>\n",
       "      <th>75%</th>\n",
       "      <td>9074.250000</td>\n",
       "      <td>5.950000</td>\n",
       "      <td>1.700000</td>\n",
       "    </tr>\n",
       "    <tr>\n",
       "      <th>max</th>\n",
       "      <td>12099.000000</td>\n",
       "      <td>10.000000</td>\n",
       "      <td>2.500000</td>\n",
       "    </tr>\n",
       "  </tbody>\n",
       "</table>\n",
       "</div>"
      ],
      "text/plain": [
       "         Unnamed: 0          nota  nota_redacao\n",
       "count  12100.000000  12100.000000  12100.000000\n",
       "mean    6049.500000      4.577988      0.874373\n",
       "std     3493.113463      1.704218      0.855287\n",
       "min        0.000000      0.750000      0.000000\n",
       "25%     3024.750000      3.000000      0.000000\n",
       "50%     6049.500000      4.850000      1.100000\n",
       "75%     9074.250000      5.950000      1.700000\n",
       "max    12099.000000     10.000000      2.500000"
      ]
     },
     "execution_count": 5,
     "metadata": {},
     "output_type": "execute_result"
    }
   ],
   "source": [
    "# a coluna nota e nota_redação estão com ponto ao invés de vírgula porque o pandas não lê virgulas,\n",
    "# então tive de fazer essa conversão antes de prosseguir.\n",
    "base.describe()"
   ]
  },
  {
   "cell_type": "markdown",
   "metadata": {},
   "source": [
    "Conferindo um breve resumo estatístico, pode-se observar que a menor nota foi 0,75 e a maior foi 10, ou seja, ninguém tirou 0. Entretanto, a média e a mediana foram de 4,58 e 4,85, respectivamente, isso quer dizer que a maioria dos alunos foram reprovados por nota de prova. Dos reprovados, 25% obtiveram notas inferiores a 3 e 25% dos aprovados notas superiores a 5,95.\n",
    "\n",
    "No caso das notas de redação, os 25% dos piores alunos reprovaram com nota 0; a média e mediana foram de 0,87 e 1,1 respectivamente, ou seja, grande parte dos alunos foram aprovados na redação; e os 25% dos melhores alunos tiraram notas acima de 1,7."
   ]
  },
  {
   "cell_type": "markdown",
   "metadata": {},
   "source": [
    "# Limpeza e preparação dos dados\n",
    "\n",
    "Antes de dar início as análises o banco de dados será limpo e prepararado."
   ]
  },
  {
   "cell_type": "code",
   "execution_count": 6,
   "metadata": {},
   "outputs": [
    {
     "data": {
      "text/plain": [
       "0"
      ]
     },
     "execution_count": 6,
     "metadata": {},
     "output_type": "execute_result"
    }
   ],
   "source": [
    "# Verificando a existência de dados duplicados\n",
    "base.duplicated().sum()"
   ]
  },
  {
   "cell_type": "code",
   "execution_count": 7,
   "metadata": {},
   "outputs": [
    {
     "name": "stdout",
     "output_type": "stream",
     "text": [
      "<class 'pandas.core.frame.DataFrame'>\n",
      "RangeIndex: 12100 entries, 0 to 12099\n",
      "Data columns (total 11 columns):\n",
      "Unnamed: 0                12100 non-null int64\n",
      "prova_realizada_em        12100 non-null object\n",
      "dia_da_prova_realizada    12060 non-null object\n",
      "nota                      12100 non-null float64\n",
      "nota_redacao              12100 non-null float64\n",
      "horario_da_prova          12060 non-null object\n",
      "sexo                      12060 non-null object\n",
      "estado_civil              12060 non-null object\n",
      "escolaridade              12060 non-null object\n",
      "cidade_de_nascimento      12060 non-null object\n",
      "bairro                    12060 non-null object\n",
      "dtypes: float64(2), int64(1), object(8)\n",
      "memory usage: 1.0+ MB\n"
     ]
    }
   ],
   "source": [
    "#verificando se existem dados faltantes\n",
    "base.info()"
   ]
  },
  {
   "cell_type": "code",
   "execution_count": 8,
   "metadata": {},
   "outputs": [
    {
     "data": {
      "text/plain": [
       "Unnamed: 0                 0\n",
       "prova_realizada_em         0\n",
       "dia_da_prova_realizada    40\n",
       "nota                       0\n",
       "nota_redacao               0\n",
       "horario_da_prova          40\n",
       "sexo                      40\n",
       "estado_civil              40\n",
       "escolaridade              40\n",
       "cidade_de_nascimento      40\n",
       "bairro                    40\n",
       "dtype: int64"
      ]
     },
     "execution_count": 8,
     "metadata": {},
     "output_type": "execute_result"
    }
   ],
   "source": [
    "# verificando se existem dados nulos\n",
    "base.isnull().sum()"
   ]
  },
  {
   "cell_type": "code",
   "execution_count": 9,
   "metadata": {},
   "outputs": [
    {
     "data": {
      "text/html": [
       "<div>\n",
       "<style scoped>\n",
       "    .dataframe tbody tr th:only-of-type {\n",
       "        vertical-align: middle;\n",
       "    }\n",
       "\n",
       "    .dataframe tbody tr th {\n",
       "        vertical-align: top;\n",
       "    }\n",
       "\n",
       "    .dataframe thead th {\n",
       "        text-align: right;\n",
       "    }\n",
       "</style>\n",
       "<table border=\"1\" class=\"dataframe\">\n",
       "  <thead>\n",
       "    <tr style=\"text-align: right;\">\n",
       "      <th></th>\n",
       "      <th>Unnamed: 0</th>\n",
       "      <th>prova_realizada_em</th>\n",
       "      <th>dia_da_prova_realizada</th>\n",
       "      <th>nota</th>\n",
       "      <th>nota_redacao</th>\n",
       "      <th>horario_da_prova</th>\n",
       "      <th>sexo</th>\n",
       "      <th>estado_civil</th>\n",
       "      <th>escolaridade</th>\n",
       "      <th>cidade_de_nascimento</th>\n",
       "      <th>bairro</th>\n",
       "    </tr>\n",
       "  </thead>\n",
       "  <tbody>\n",
       "    <tr>\n",
       "      <th>352</th>\n",
       "      <td>352</td>\n",
       "      <td>PA - Pará</td>\n",
       "      <td>NaN</td>\n",
       "      <td>6.55</td>\n",
       "      <td>2.3</td>\n",
       "      <td>NaN</td>\n",
       "      <td>NaN</td>\n",
       "      <td>NaN</td>\n",
       "      <td>NaN</td>\n",
       "      <td>NaN</td>\n",
       "      <td>NaN</td>\n",
       "    </tr>\n",
       "    <tr>\n",
       "      <th>370</th>\n",
       "      <td>370</td>\n",
       "      <td>PA - Pará</td>\n",
       "      <td>NaN</td>\n",
       "      <td>6.20</td>\n",
       "      <td>1.7</td>\n",
       "      <td>NaN</td>\n",
       "      <td>NaN</td>\n",
       "      <td>NaN</td>\n",
       "      <td>NaN</td>\n",
       "      <td>NaN</td>\n",
       "      <td>NaN</td>\n",
       "    </tr>\n",
       "    <tr>\n",
       "      <th>377</th>\n",
       "      <td>377</td>\n",
       "      <td>PA - Pará</td>\n",
       "      <td>NaN</td>\n",
       "      <td>6.00</td>\n",
       "      <td>1.5</td>\n",
       "      <td>NaN</td>\n",
       "      <td>NaN</td>\n",
       "      <td>NaN</td>\n",
       "      <td>NaN</td>\n",
       "      <td>NaN</td>\n",
       "      <td>NaN</td>\n",
       "    </tr>\n",
       "    <tr>\n",
       "      <th>393</th>\n",
       "      <td>393</td>\n",
       "      <td>PA - Pará</td>\n",
       "      <td>NaN</td>\n",
       "      <td>5.65</td>\n",
       "      <td>1.9</td>\n",
       "      <td>NaN</td>\n",
       "      <td>NaN</td>\n",
       "      <td>NaN</td>\n",
       "      <td>NaN</td>\n",
       "      <td>NaN</td>\n",
       "      <td>NaN</td>\n",
       "    </tr>\n",
       "    <tr>\n",
       "      <th>725</th>\n",
       "      <td>725</td>\n",
       "      <td>GO - Goiás</td>\n",
       "      <td>NaN</td>\n",
       "      <td>6.75</td>\n",
       "      <td>2.0</td>\n",
       "      <td>NaN</td>\n",
       "      <td>NaN</td>\n",
       "      <td>NaN</td>\n",
       "      <td>NaN</td>\n",
       "      <td>NaN</td>\n",
       "      <td>NaN</td>\n",
       "    </tr>\n",
       "    <tr>\n",
       "      <th>801</th>\n",
       "      <td>801</td>\n",
       "      <td>GO - Goiás</td>\n",
       "      <td>NaN</td>\n",
       "      <td>6.70</td>\n",
       "      <td>2.2</td>\n",
       "      <td>NaN</td>\n",
       "      <td>NaN</td>\n",
       "      <td>NaN</td>\n",
       "      <td>NaN</td>\n",
       "      <td>NaN</td>\n",
       "      <td>NaN</td>\n",
       "    </tr>\n",
       "    <tr>\n",
       "      <th>836</th>\n",
       "      <td>836</td>\n",
       "      <td>GO - Goiás</td>\n",
       "      <td>NaN</td>\n",
       "      <td>5.35</td>\n",
       "      <td>1.6</td>\n",
       "      <td>NaN</td>\n",
       "      <td>NaN</td>\n",
       "      <td>NaN</td>\n",
       "      <td>NaN</td>\n",
       "      <td>NaN</td>\n",
       "      <td>NaN</td>\n",
       "    </tr>\n",
       "    <tr>\n",
       "      <th>1119</th>\n",
       "      <td>1119</td>\n",
       "      <td>BA - Bahia</td>\n",
       "      <td>NaN</td>\n",
       "      <td>6.65</td>\n",
       "      <td>1.9</td>\n",
       "      <td>NaN</td>\n",
       "      <td>NaN</td>\n",
       "      <td>NaN</td>\n",
       "      <td>NaN</td>\n",
       "      <td>NaN</td>\n",
       "      <td>NaN</td>\n",
       "    </tr>\n",
       "    <tr>\n",
       "      <th>1123</th>\n",
       "      <td>1123</td>\n",
       "      <td>BA - Bahia</td>\n",
       "      <td>NaN</td>\n",
       "      <td>6.55</td>\n",
       "      <td>1.8</td>\n",
       "      <td>NaN</td>\n",
       "      <td>NaN</td>\n",
       "      <td>NaN</td>\n",
       "      <td>NaN</td>\n",
       "      <td>NaN</td>\n",
       "      <td>NaN</td>\n",
       "    </tr>\n",
       "    <tr>\n",
       "      <th>1175</th>\n",
       "      <td>1175</td>\n",
       "      <td>BA - Bahia</td>\n",
       "      <td>NaN</td>\n",
       "      <td>5.65</td>\n",
       "      <td>1.9</td>\n",
       "      <td>NaN</td>\n",
       "      <td>NaN</td>\n",
       "      <td>NaN</td>\n",
       "      <td>NaN</td>\n",
       "      <td>NaN</td>\n",
       "      <td>NaN</td>\n",
       "    </tr>\n",
       "    <tr>\n",
       "      <th>1179</th>\n",
       "      <td>1179</td>\n",
       "      <td>BA - Bahia</td>\n",
       "      <td>NaN</td>\n",
       "      <td>5.65</td>\n",
       "      <td>1.9</td>\n",
       "      <td>NaN</td>\n",
       "      <td>NaN</td>\n",
       "      <td>NaN</td>\n",
       "      <td>NaN</td>\n",
       "      <td>NaN</td>\n",
       "      <td>NaN</td>\n",
       "    </tr>\n",
       "    <tr>\n",
       "      <th>1233</th>\n",
       "      <td>1233</td>\n",
       "      <td>BA - Bahia</td>\n",
       "      <td>NaN</td>\n",
       "      <td>4.95</td>\n",
       "      <td>1.2</td>\n",
       "      <td>NaN</td>\n",
       "      <td>NaN</td>\n",
       "      <td>NaN</td>\n",
       "      <td>NaN</td>\n",
       "      <td>NaN</td>\n",
       "      <td>NaN</td>\n",
       "    </tr>\n",
       "    <tr>\n",
       "      <th>1865</th>\n",
       "      <td>1865</td>\n",
       "      <td>MA - Maranhão</td>\n",
       "      <td>NaN</td>\n",
       "      <td>6.15</td>\n",
       "      <td>2.4</td>\n",
       "      <td>NaN</td>\n",
       "      <td>NaN</td>\n",
       "      <td>NaN</td>\n",
       "      <td>NaN</td>\n",
       "      <td>NaN</td>\n",
       "      <td>NaN</td>\n",
       "    </tr>\n",
       "    <tr>\n",
       "      <th>1923</th>\n",
       "      <td>1923</td>\n",
       "      <td>MA - Maranhão</td>\n",
       "      <td>NaN</td>\n",
       "      <td>4.75</td>\n",
       "      <td>1.0</td>\n",
       "      <td>NaN</td>\n",
       "      <td>NaN</td>\n",
       "      <td>NaN</td>\n",
       "      <td>NaN</td>\n",
       "      <td>NaN</td>\n",
       "      <td>NaN</td>\n",
       "    </tr>\n",
       "    <tr>\n",
       "      <th>2070</th>\n",
       "      <td>2070</td>\n",
       "      <td>GO - Goiás</td>\n",
       "      <td>NaN</td>\n",
       "      <td>6.55</td>\n",
       "      <td>2.3</td>\n",
       "      <td>NaN</td>\n",
       "      <td>NaN</td>\n",
       "      <td>NaN</td>\n",
       "      <td>NaN</td>\n",
       "      <td>NaN</td>\n",
       "      <td>NaN</td>\n",
       "    </tr>\n",
       "    <tr>\n",
       "      <th>2177</th>\n",
       "      <td>2177</td>\n",
       "      <td>GO - Goiás</td>\n",
       "      <td>NaN</td>\n",
       "      <td>5.45</td>\n",
       "      <td>1.7</td>\n",
       "      <td>NaN</td>\n",
       "      <td>NaN</td>\n",
       "      <td>NaN</td>\n",
       "      <td>NaN</td>\n",
       "      <td>NaN</td>\n",
       "      <td>NaN</td>\n",
       "    </tr>\n",
       "    <tr>\n",
       "      <th>3058</th>\n",
       "      <td>3058</td>\n",
       "      <td>PA - Pará</td>\n",
       "      <td>NaN</td>\n",
       "      <td>2.75</td>\n",
       "      <td>0.0</td>\n",
       "      <td>NaN</td>\n",
       "      <td>NaN</td>\n",
       "      <td>NaN</td>\n",
       "      <td>NaN</td>\n",
       "      <td>NaN</td>\n",
       "      <td>NaN</td>\n",
       "    </tr>\n",
       "    <tr>\n",
       "      <th>3079</th>\n",
       "      <td>3079</td>\n",
       "      <td>PA - Pará</td>\n",
       "      <td>NaN</td>\n",
       "      <td>2.50</td>\n",
       "      <td>0.0</td>\n",
       "      <td>NaN</td>\n",
       "      <td>NaN</td>\n",
       "      <td>NaN</td>\n",
       "      <td>NaN</td>\n",
       "      <td>NaN</td>\n",
       "      <td>NaN</td>\n",
       "    </tr>\n",
       "    <tr>\n",
       "      <th>3082</th>\n",
       "      <td>3082</td>\n",
       "      <td>PA - Pará</td>\n",
       "      <td>NaN</td>\n",
       "      <td>2.50</td>\n",
       "      <td>0.0</td>\n",
       "      <td>NaN</td>\n",
       "      <td>NaN</td>\n",
       "      <td>NaN</td>\n",
       "      <td>NaN</td>\n",
       "      <td>NaN</td>\n",
       "      <td>NaN</td>\n",
       "    </tr>\n",
       "    <tr>\n",
       "      <th>3089</th>\n",
       "      <td>3089</td>\n",
       "      <td>PA - Pará</td>\n",
       "      <td>NaN</td>\n",
       "      <td>2.25</td>\n",
       "      <td>0.0</td>\n",
       "      <td>NaN</td>\n",
       "      <td>NaN</td>\n",
       "      <td>NaN</td>\n",
       "      <td>NaN</td>\n",
       "      <td>NaN</td>\n",
       "      <td>NaN</td>\n",
       "    </tr>\n",
       "    <tr>\n",
       "      <th>3094</th>\n",
       "      <td>3094</td>\n",
       "      <td>PA - Pará</td>\n",
       "      <td>NaN</td>\n",
       "      <td>2.25</td>\n",
       "      <td>0.0</td>\n",
       "      <td>NaN</td>\n",
       "      <td>NaN</td>\n",
       "      <td>NaN</td>\n",
       "      <td>NaN</td>\n",
       "      <td>NaN</td>\n",
       "      <td>NaN</td>\n",
       "    </tr>\n",
       "    <tr>\n",
       "      <th>3105</th>\n",
       "      <td>3105</td>\n",
       "      <td>PA - Pará</td>\n",
       "      <td>NaN</td>\n",
       "      <td>1.50</td>\n",
       "      <td>0.0</td>\n",
       "      <td>NaN</td>\n",
       "      <td>NaN</td>\n",
       "      <td>NaN</td>\n",
       "      <td>NaN</td>\n",
       "      <td>NaN</td>\n",
       "      <td>NaN</td>\n",
       "    </tr>\n",
       "    <tr>\n",
       "      <th>3695</th>\n",
       "      <td>3695</td>\n",
       "      <td>GO - Goiás</td>\n",
       "      <td>NaN</td>\n",
       "      <td>2.50</td>\n",
       "      <td>0.0</td>\n",
       "      <td>NaN</td>\n",
       "      <td>NaN</td>\n",
       "      <td>NaN</td>\n",
       "      <td>NaN</td>\n",
       "      <td>NaN</td>\n",
       "      <td>NaN</td>\n",
       "    </tr>\n",
       "    <tr>\n",
       "      <th>3743</th>\n",
       "      <td>3743</td>\n",
       "      <td>GO - Goiás</td>\n",
       "      <td>NaN</td>\n",
       "      <td>3.50</td>\n",
       "      <td>0.0</td>\n",
       "      <td>NaN</td>\n",
       "      <td>NaN</td>\n",
       "      <td>NaN</td>\n",
       "      <td>NaN</td>\n",
       "      <td>NaN</td>\n",
       "      <td>NaN</td>\n",
       "    </tr>\n",
       "    <tr>\n",
       "      <th>4430</th>\n",
       "      <td>4430</td>\n",
       "      <td>BA - Bahia</td>\n",
       "      <td>NaN</td>\n",
       "      <td>3.50</td>\n",
       "      <td>0.0</td>\n",
       "      <td>NaN</td>\n",
       "      <td>NaN</td>\n",
       "      <td>NaN</td>\n",
       "      <td>NaN</td>\n",
       "      <td>NaN</td>\n",
       "      <td>NaN</td>\n",
       "    </tr>\n",
       "    <tr>\n",
       "      <th>4433</th>\n",
       "      <td>4433</td>\n",
       "      <td>BA - Bahia</td>\n",
       "      <td>NaN</td>\n",
       "      <td>3.50</td>\n",
       "      <td>0.0</td>\n",
       "      <td>NaN</td>\n",
       "      <td>NaN</td>\n",
       "      <td>NaN</td>\n",
       "      <td>NaN</td>\n",
       "      <td>NaN</td>\n",
       "      <td>NaN</td>\n",
       "    </tr>\n",
       "    <tr>\n",
       "      <th>4540</th>\n",
       "      <td>4540</td>\n",
       "      <td>BA - Bahia</td>\n",
       "      <td>NaN</td>\n",
       "      <td>2.75</td>\n",
       "      <td>0.0</td>\n",
       "      <td>NaN</td>\n",
       "      <td>NaN</td>\n",
       "      <td>NaN</td>\n",
       "      <td>NaN</td>\n",
       "      <td>NaN</td>\n",
       "      <td>NaN</td>\n",
       "    </tr>\n",
       "    <tr>\n",
       "      <th>4547</th>\n",
       "      <td>4547</td>\n",
       "      <td>BA - Bahia</td>\n",
       "      <td>NaN</td>\n",
       "      <td>2.75</td>\n",
       "      <td>0.0</td>\n",
       "      <td>NaN</td>\n",
       "      <td>NaN</td>\n",
       "      <td>NaN</td>\n",
       "      <td>NaN</td>\n",
       "      <td>NaN</td>\n",
       "      <td>NaN</td>\n",
       "    </tr>\n",
       "    <tr>\n",
       "      <th>4588</th>\n",
       "      <td>4588</td>\n",
       "      <td>BA - Bahia</td>\n",
       "      <td>NaN</td>\n",
       "      <td>2.50</td>\n",
       "      <td>0.0</td>\n",
       "      <td>NaN</td>\n",
       "      <td>NaN</td>\n",
       "      <td>NaN</td>\n",
       "      <td>NaN</td>\n",
       "      <td>NaN</td>\n",
       "      <td>NaN</td>\n",
       "    </tr>\n",
       "    <tr>\n",
       "      <th>5380</th>\n",
       "      <td>5380</td>\n",
       "      <td>BA - Bahia</td>\n",
       "      <td>NaN</td>\n",
       "      <td>2.50</td>\n",
       "      <td>0.0</td>\n",
       "      <td>NaN</td>\n",
       "      <td>NaN</td>\n",
       "      <td>NaN</td>\n",
       "      <td>NaN</td>\n",
       "      <td>NaN</td>\n",
       "      <td>NaN</td>\n",
       "    </tr>\n",
       "    <tr>\n",
       "      <th>6211</th>\n",
       "      <td>6211</td>\n",
       "      <td>MA - Maranhão</td>\n",
       "      <td>NaN</td>\n",
       "      <td>2.00</td>\n",
       "      <td>0.0</td>\n",
       "      <td>NaN</td>\n",
       "      <td>NaN</td>\n",
       "      <td>NaN</td>\n",
       "      <td>NaN</td>\n",
       "      <td>NaN</td>\n",
       "      <td>NaN</td>\n",
       "    </tr>\n",
       "    <tr>\n",
       "      <th>6287</th>\n",
       "      <td>6287</td>\n",
       "      <td>MA - Maranhão</td>\n",
       "      <td>NaN</td>\n",
       "      <td>3.00</td>\n",
       "      <td>0.0</td>\n",
       "      <td>NaN</td>\n",
       "      <td>NaN</td>\n",
       "      <td>NaN</td>\n",
       "      <td>NaN</td>\n",
       "      <td>NaN</td>\n",
       "      <td>NaN</td>\n",
       "    </tr>\n",
       "    <tr>\n",
       "      <th>6324</th>\n",
       "      <td>6324</td>\n",
       "      <td>MA - Maranhão</td>\n",
       "      <td>NaN</td>\n",
       "      <td>2.00</td>\n",
       "      <td>0.0</td>\n",
       "      <td>NaN</td>\n",
       "      <td>NaN</td>\n",
       "      <td>NaN</td>\n",
       "      <td>NaN</td>\n",
       "      <td>NaN</td>\n",
       "      <td>NaN</td>\n",
       "    </tr>\n",
       "    <tr>\n",
       "      <th>6593</th>\n",
       "      <td>6593</td>\n",
       "      <td>GO - Goiás</td>\n",
       "      <td>NaN</td>\n",
       "      <td>3.25</td>\n",
       "      <td>0.0</td>\n",
       "      <td>NaN</td>\n",
       "      <td>NaN</td>\n",
       "      <td>NaN</td>\n",
       "      <td>NaN</td>\n",
       "      <td>NaN</td>\n",
       "      <td>NaN</td>\n",
       "    </tr>\n",
       "    <tr>\n",
       "      <th>6601</th>\n",
       "      <td>6601</td>\n",
       "      <td>GO - Goiás</td>\n",
       "      <td>NaN</td>\n",
       "      <td>3.25</td>\n",
       "      <td>0.0</td>\n",
       "      <td>NaN</td>\n",
       "      <td>NaN</td>\n",
       "      <td>NaN</td>\n",
       "      <td>NaN</td>\n",
       "      <td>NaN</td>\n",
       "      <td>NaN</td>\n",
       "    </tr>\n",
       "    <tr>\n",
       "      <th>6678</th>\n",
       "      <td>6678</td>\n",
       "      <td>GO - Goiás</td>\n",
       "      <td>NaN</td>\n",
       "      <td>2.75</td>\n",
       "      <td>0.0</td>\n",
       "      <td>NaN</td>\n",
       "      <td>NaN</td>\n",
       "      <td>NaN</td>\n",
       "      <td>NaN</td>\n",
       "      <td>NaN</td>\n",
       "      <td>NaN</td>\n",
       "    </tr>\n",
       "    <tr>\n",
       "      <th>6683</th>\n",
       "      <td>6683</td>\n",
       "      <td>GO - Goiás</td>\n",
       "      <td>NaN</td>\n",
       "      <td>2.75</td>\n",
       "      <td>0.0</td>\n",
       "      <td>NaN</td>\n",
       "      <td>NaN</td>\n",
       "      <td>NaN</td>\n",
       "      <td>NaN</td>\n",
       "      <td>NaN</td>\n",
       "      <td>NaN</td>\n",
       "    </tr>\n",
       "    <tr>\n",
       "      <th>6693</th>\n",
       "      <td>6693</td>\n",
       "      <td>GO - Goiás</td>\n",
       "      <td>NaN</td>\n",
       "      <td>2.75</td>\n",
       "      <td>0.0</td>\n",
       "      <td>NaN</td>\n",
       "      <td>NaN</td>\n",
       "      <td>NaN</td>\n",
       "      <td>NaN</td>\n",
       "      <td>NaN</td>\n",
       "      <td>NaN</td>\n",
       "    </tr>\n",
       "    <tr>\n",
       "      <th>6694</th>\n",
       "      <td>6694</td>\n",
       "      <td>GO - Goiás</td>\n",
       "      <td>NaN</td>\n",
       "      <td>2.75</td>\n",
       "      <td>0.0</td>\n",
       "      <td>NaN</td>\n",
       "      <td>NaN</td>\n",
       "      <td>NaN</td>\n",
       "      <td>NaN</td>\n",
       "      <td>NaN</td>\n",
       "      <td>NaN</td>\n",
       "    </tr>\n",
       "    <tr>\n",
       "      <th>6781</th>\n",
       "      <td>6781</td>\n",
       "      <td>MA - Maranhão</td>\n",
       "      <td>NaN</td>\n",
       "      <td>3.50</td>\n",
       "      <td>0.0</td>\n",
       "      <td>NaN</td>\n",
       "      <td>NaN</td>\n",
       "      <td>NaN</td>\n",
       "      <td>NaN</td>\n",
       "      <td>NaN</td>\n",
       "      <td>NaN</td>\n",
       "    </tr>\n",
       "  </tbody>\n",
       "</table>\n",
       "</div>"
      ],
      "text/plain": [
       "      Unnamed: 0 prova_realizada_em dia_da_prova_realizada  nota  \\\n",
       "352          352          PA - Pará                    NaN  6.55   \n",
       "370          370          PA - Pará                    NaN  6.20   \n",
       "377          377          PA - Pará                    NaN  6.00   \n",
       "393          393          PA - Pará                    NaN  5.65   \n",
       "725          725         GO - Goiás                    NaN  6.75   \n",
       "801          801         GO - Goiás                    NaN  6.70   \n",
       "836          836         GO - Goiás                    NaN  5.35   \n",
       "1119        1119         BA - Bahia                    NaN  6.65   \n",
       "1123        1123         BA - Bahia                    NaN  6.55   \n",
       "1175        1175         BA - Bahia                    NaN  5.65   \n",
       "1179        1179         BA - Bahia                    NaN  5.65   \n",
       "1233        1233         BA - Bahia                    NaN  4.95   \n",
       "1865        1865      MA - Maranhão                    NaN  6.15   \n",
       "1923        1923      MA - Maranhão                    NaN  4.75   \n",
       "2070        2070         GO - Goiás                    NaN  6.55   \n",
       "2177        2177         GO - Goiás                    NaN  5.45   \n",
       "3058        3058          PA - Pará                    NaN  2.75   \n",
       "3079        3079          PA - Pará                    NaN  2.50   \n",
       "3082        3082          PA - Pará                    NaN  2.50   \n",
       "3089        3089          PA - Pará                    NaN  2.25   \n",
       "3094        3094          PA - Pará                    NaN  2.25   \n",
       "3105        3105          PA - Pará                    NaN  1.50   \n",
       "3695        3695         GO - Goiás                    NaN  2.50   \n",
       "3743        3743         GO - Goiás                    NaN  3.50   \n",
       "4430        4430         BA - Bahia                    NaN  3.50   \n",
       "4433        4433         BA - Bahia                    NaN  3.50   \n",
       "4540        4540         BA - Bahia                    NaN  2.75   \n",
       "4547        4547         BA - Bahia                    NaN  2.75   \n",
       "4588        4588         BA - Bahia                    NaN  2.50   \n",
       "5380        5380         BA - Bahia                    NaN  2.50   \n",
       "6211        6211      MA - Maranhão                    NaN  2.00   \n",
       "6287        6287      MA - Maranhão                    NaN  3.00   \n",
       "6324        6324      MA - Maranhão                    NaN  2.00   \n",
       "6593        6593         GO - Goiás                    NaN  3.25   \n",
       "6601        6601         GO - Goiás                    NaN  3.25   \n",
       "6678        6678         GO - Goiás                    NaN  2.75   \n",
       "6683        6683         GO - Goiás                    NaN  2.75   \n",
       "6693        6693         GO - Goiás                    NaN  2.75   \n",
       "6694        6694         GO - Goiás                    NaN  2.75   \n",
       "6781        6781      MA - Maranhão                    NaN  3.50   \n",
       "\n",
       "      nota_redacao horario_da_prova sexo estado_civil escolaridade  \\\n",
       "352            2.3              NaN  NaN          NaN          NaN   \n",
       "370            1.7              NaN  NaN          NaN          NaN   \n",
       "377            1.5              NaN  NaN          NaN          NaN   \n",
       "393            1.9              NaN  NaN          NaN          NaN   \n",
       "725            2.0              NaN  NaN          NaN          NaN   \n",
       "801            2.2              NaN  NaN          NaN          NaN   \n",
       "836            1.6              NaN  NaN          NaN          NaN   \n",
       "1119           1.9              NaN  NaN          NaN          NaN   \n",
       "1123           1.8              NaN  NaN          NaN          NaN   \n",
       "1175           1.9              NaN  NaN          NaN          NaN   \n",
       "1179           1.9              NaN  NaN          NaN          NaN   \n",
       "1233           1.2              NaN  NaN          NaN          NaN   \n",
       "1865           2.4              NaN  NaN          NaN          NaN   \n",
       "1923           1.0              NaN  NaN          NaN          NaN   \n",
       "2070           2.3              NaN  NaN          NaN          NaN   \n",
       "2177           1.7              NaN  NaN          NaN          NaN   \n",
       "3058           0.0              NaN  NaN          NaN          NaN   \n",
       "3079           0.0              NaN  NaN          NaN          NaN   \n",
       "3082           0.0              NaN  NaN          NaN          NaN   \n",
       "3089           0.0              NaN  NaN          NaN          NaN   \n",
       "3094           0.0              NaN  NaN          NaN          NaN   \n",
       "3105           0.0              NaN  NaN          NaN          NaN   \n",
       "3695           0.0              NaN  NaN          NaN          NaN   \n",
       "3743           0.0              NaN  NaN          NaN          NaN   \n",
       "4430           0.0              NaN  NaN          NaN          NaN   \n",
       "4433           0.0              NaN  NaN          NaN          NaN   \n",
       "4540           0.0              NaN  NaN          NaN          NaN   \n",
       "4547           0.0              NaN  NaN          NaN          NaN   \n",
       "4588           0.0              NaN  NaN          NaN          NaN   \n",
       "5380           0.0              NaN  NaN          NaN          NaN   \n",
       "6211           0.0              NaN  NaN          NaN          NaN   \n",
       "6287           0.0              NaN  NaN          NaN          NaN   \n",
       "6324           0.0              NaN  NaN          NaN          NaN   \n",
       "6593           0.0              NaN  NaN          NaN          NaN   \n",
       "6601           0.0              NaN  NaN          NaN          NaN   \n",
       "6678           0.0              NaN  NaN          NaN          NaN   \n",
       "6683           0.0              NaN  NaN          NaN          NaN   \n",
       "6693           0.0              NaN  NaN          NaN          NaN   \n",
       "6694           0.0              NaN  NaN          NaN          NaN   \n",
       "6781           0.0              NaN  NaN          NaN          NaN   \n",
       "\n",
       "     cidade_de_nascimento bairro  \n",
       "352                   NaN    NaN  \n",
       "370                   NaN    NaN  \n",
       "377                   NaN    NaN  \n",
       "393                   NaN    NaN  \n",
       "725                   NaN    NaN  \n",
       "801                   NaN    NaN  \n",
       "836                   NaN    NaN  \n",
       "1119                  NaN    NaN  \n",
       "1123                  NaN    NaN  \n",
       "1175                  NaN    NaN  \n",
       "1179                  NaN    NaN  \n",
       "1233                  NaN    NaN  \n",
       "1865                  NaN    NaN  \n",
       "1923                  NaN    NaN  \n",
       "2070                  NaN    NaN  \n",
       "2177                  NaN    NaN  \n",
       "3058                  NaN    NaN  \n",
       "3079                  NaN    NaN  \n",
       "3082                  NaN    NaN  \n",
       "3089                  NaN    NaN  \n",
       "3094                  NaN    NaN  \n",
       "3105                  NaN    NaN  \n",
       "3695                  NaN    NaN  \n",
       "3743                  NaN    NaN  \n",
       "4430                  NaN    NaN  \n",
       "4433                  NaN    NaN  \n",
       "4540                  NaN    NaN  \n",
       "4547                  NaN    NaN  \n",
       "4588                  NaN    NaN  \n",
       "5380                  NaN    NaN  \n",
       "6211                  NaN    NaN  \n",
       "6287                  NaN    NaN  \n",
       "6324                  NaN    NaN  \n",
       "6593                  NaN    NaN  \n",
       "6601                  NaN    NaN  \n",
       "6678                  NaN    NaN  \n",
       "6683                  NaN    NaN  \n",
       "6693                  NaN    NaN  \n",
       "6694                  NaN    NaN  \n",
       "6781                  NaN    NaN  "
      ]
     },
     "execution_count": 9,
     "metadata": {},
     "output_type": "execute_result"
    }
   ],
   "source": [
    "base[base.escolaridade.isnull()]"
   ]
  },
  {
   "cell_type": "markdown",
   "metadata": {},
   "source": [
    "Uma observação importante é que qualquer coluna que tivesse sido escolhida para ser analisada (como é o caso da coluna escolaridade acima) iria dar as mesmas 40 linhas faltantes. Isso foi percebido analisando a tabela acima, onde as 7 colunas possuem dados vazios nas mesmas linhas. "
   ]
  },
  {
   "cell_type": "code",
   "execution_count": 10,
   "metadata": {},
   "outputs": [
    {
     "data": {
      "text/plain": [
       "(1346, 11)"
      ]
     },
     "execution_count": 10,
     "metadata": {},
     "output_type": "execute_result"
    }
   ],
   "source": [
    "#Dimensão dos dados de Goiás\n",
    "base.query(\"prova_realizada_em == 'GO - Goiás'\").shape"
   ]
  },
  {
   "cell_type": "code",
   "execution_count": 11,
   "metadata": {},
   "outputs": [
    {
     "data": {
      "text/plain": [
       "(1556, 11)"
      ]
     },
     "execution_count": 11,
     "metadata": {},
     "output_type": "execute_result"
    }
   ],
   "source": [
    "#Dimensão dos dados do Pará\n",
    "base.query(\"prova_realizada_em == 'PA - Pará'\").shape"
   ]
  },
  {
   "cell_type": "code",
   "execution_count": 12,
   "metadata": {},
   "outputs": [
    {
     "data": {
      "text/plain": [
       "(891, 11)"
      ]
     },
     "execution_count": 12,
     "metadata": {},
     "output_type": "execute_result"
    }
   ],
   "source": [
    "#Dimensão dos dados da Bahia\n",
    "base.query(\"prova_realizada_em == 'BA - Bahia'\").shape"
   ]
  },
  {
   "cell_type": "code",
   "execution_count": 13,
   "metadata": {},
   "outputs": [
    {
     "data": {
      "text/plain": [
       "(728, 11)"
      ]
     },
     "execution_count": 13,
     "metadata": {},
     "output_type": "execute_result"
    }
   ],
   "source": [
    "#Dimensão dos dados de Maranhão\n",
    "base.query(\"prova_realizada_em == 'MA - Maranhão'\").shape"
   ]
  },
  {
   "cell_type": "markdown",
   "metadata": {},
   "source": [
    " Observando os dados acima (tabela e dimensões dos dados de Goiás, Pará, Bahia e Maranhão), observa-se que 13 dados faltantes são de GO- Goias, 10 de PA - Pará, 11 de BA - Bahia, 6 de MA- Maranhão. Em relação a quantidade de dados dessas regiões, esses dados faltantes correspondem a aproximadamente 1% de seus totais. Considerando que essas informações ausentes correspondem a um percentual muito baixo de cada região e que a maioria das colunas desses dados estão vazias, então eles serão apagados para não atrapalharem as análises a serem realizadas."
   ]
  },
  {
   "cell_type": "code",
   "execution_count": 14,
   "metadata": {},
   "outputs": [],
   "source": [
    "#Apagando os dados faltantes\n",
    "base.dropna(inplace = True)"
   ]
  },
  {
   "cell_type": "code",
   "execution_count": 15,
   "metadata": {},
   "outputs": [
    {
     "data": {
      "text/plain": [
       "(12060, 11)"
      ]
     },
     "execution_count": 15,
     "metadata": {},
     "output_type": "execute_result"
    }
   ],
   "source": [
    "#Verificando a nova dimensão dos dados\n",
    "base.shape"
   ]
  },
  {
   "cell_type": "code",
   "execution_count": 16,
   "metadata": {},
   "outputs": [
    {
     "data": {
      "text/plain": [
       "Unnamed: 0                0\n",
       "prova_realizada_em        0\n",
       "dia_da_prova_realizada    0\n",
       "nota                      0\n",
       "nota_redacao              0\n",
       "horario_da_prova          0\n",
       "sexo                      0\n",
       "estado_civil              0\n",
       "escolaridade              0\n",
       "cidade_de_nascimento      0\n",
       "bairro                    0\n",
       "dtype: int64"
      ]
     },
     "execution_count": 16,
     "metadata": {},
     "output_type": "execute_result"
    }
   ],
   "source": [
    "base.isnull().sum()"
   ]
  },
  {
   "cell_type": "markdown",
   "metadata": {},
   "source": [
    "Agora a base de dados está sem valores faltantes ou duplicados."
   ]
  },
  {
   "cell_type": "code",
   "execution_count": 17,
   "metadata": {},
   "outputs": [
    {
     "data": {
      "image/png": "[encoded data removed]",
      "text/plain": [
       "<Figure size 432x288 with 1 Axes>"
      ]
     },
     "metadata": {
      "needs_background": "light"
     },
     "output_type": "display_data"
    }
   ],
   "source": [
    "#Figura 1: Histograma das notas\n",
    "base['nota'].hist();"
   ]
  },
  {
   "cell_type": "markdown",
   "metadata": {},
   "source": [
    "Observando o histograma de notas, percebe-se que ela tem um comportamento bimodal, onde um pico está em 3 e o outro em aproximadamente 6. Esses valores correspondem aos quartis 1 e 3 apresentado na tabela de descrição estatística acima. Ou seja, apagar os valores faltantes não alteraram a distribuição dos dados."
   ]
  },
  {
   "cell_type": "code",
   "execution_count": 18,
   "metadata": {},
   "outputs": [
    {
     "data": {
      "image/png": "[encoded data removed]",
      "text/plain": [
       "<Figure size 432x288 with 1 Axes>"
      ]
     },
     "metadata": {
      "needs_background": "light"
     },
     "output_type": "display_data"
    }
   ],
   "source": [
    "#Figura 2: Histograma das notas da redação\n",
    "base['nota_redacao'].hist();"
   ]
  },
  {
   "cell_type": "markdown",
   "metadata": {},
   "source": [
    "Os picos das distribuições do histograma referentes as notas de redação apresentam os quartis 1 e 3 mostrados na tabela da descrição estatística acima. Na verdade, não dá para dizer que a coluna a esquerda é uma distribuição. Ela praticamente representa apenas o valor 0."
   ]
  },
  {
   "cell_type": "markdown",
   "metadata": {},
   "source": [
    "# Público-alvo ideal (Aprovados)\n",
    "\n",
    "Para entender melhor o público-alvo a base de dados passará por um filtro, no qual serão retirados os alunos reprovados."
   ]
  },
  {
   "cell_type": "code",
   "execution_count": 19,
   "metadata": {},
   "outputs": [],
   "source": [
    "aprovados = base.query(\"nota >= 5 and nota_redacao > 0\")"
   ]
  },
  {
   "cell_type": "code",
   "execution_count": 20,
   "metadata": {},
   "outputs": [
    {
     "data": {
      "text/html": [
       "<div>\n",
       "<style scoped>\n",
       "    .dataframe tbody tr th:only-of-type {\n",
       "        vertical-align: middle;\n",
       "    }\n",
       "\n",
       "    .dataframe tbody tr th {\n",
       "        vertical-align: top;\n",
       "    }\n",
       "\n",
       "    .dataframe thead th {\n",
       "        text-align: right;\n",
       "    }\n",
       "</style>\n",
       "<table border=\"1\" class=\"dataframe\">\n",
       "  <thead>\n",
       "    <tr style=\"text-align: right;\">\n",
       "      <th></th>\n",
       "      <th>Unnamed: 0</th>\n",
       "      <th>prova_realizada_em</th>\n",
       "      <th>dia_da_prova_realizada</th>\n",
       "      <th>nota</th>\n",
       "      <th>nota_redacao</th>\n",
       "      <th>horario_da_prova</th>\n",
       "      <th>sexo</th>\n",
       "      <th>estado_civil</th>\n",
       "      <th>escolaridade</th>\n",
       "      <th>cidade_de_nascimento</th>\n",
       "      <th>bairro</th>\n",
       "    </tr>\n",
       "  </thead>\n",
       "  <tbody>\n",
       "    <tr>\n",
       "      <th>0</th>\n",
       "      <td>0</td>\n",
       "      <td>GO - Goiás</td>\n",
       "      <td>13/01/2017</td>\n",
       "      <td>7.45</td>\n",
       "      <td>2.2</td>\n",
       "      <td>manhã</td>\n",
       "      <td>Masculino</td>\n",
       "      <td>Casado(a)</td>\n",
       "      <td>Ensino médio</td>\n",
       "      <td>fortaleza</td>\n",
       "      <td>Asa Sul</td>\n",
       "    </tr>\n",
       "    <tr>\n",
       "      <th>1</th>\n",
       "      <td>1</td>\n",
       "      <td>GO - Goiás</td>\n",
       "      <td>10/01/2017</td>\n",
       "      <td>7.40</td>\n",
       "      <td>2.4</td>\n",
       "      <td>manhã</td>\n",
       "      <td>Masculino</td>\n",
       "      <td>Casado(a)</td>\n",
       "      <td>Especialização</td>\n",
       "      <td>Recife</td>\n",
       "      <td>Norte (Águas Claras)</td>\n",
       "    </tr>\n",
       "    <tr>\n",
       "      <th>2</th>\n",
       "      <td>2</td>\n",
       "      <td>GO - Goiás</td>\n",
       "      <td>07/01/2017</td>\n",
       "      <td>7.30</td>\n",
       "      <td>1.8</td>\n",
       "      <td>manhã</td>\n",
       "      <td>Masculino</td>\n",
       "      <td>Casado(a)</td>\n",
       "      <td>Superior</td>\n",
       "      <td>BRASILIA</td>\n",
       "      <td>Setor Sudoeste</td>\n",
       "    </tr>\n",
       "    <tr>\n",
       "      <th>3</th>\n",
       "      <td>3</td>\n",
       "      <td>GO - Goiás</td>\n",
       "      <td>02/01/2017</td>\n",
       "      <td>7.20</td>\n",
       "      <td>1.7</td>\n",
       "      <td>Noite</td>\n",
       "      <td>Masculino</td>\n",
       "      <td>Solteiro(a)</td>\n",
       "      <td>Ensino médio</td>\n",
       "      <td>Brasília</td>\n",
       "      <td>Setor Norte</td>\n",
       "    </tr>\n",
       "    <tr>\n",
       "      <th>4</th>\n",
       "      <td>4</td>\n",
       "      <td>GO - Goiás</td>\n",
       "      <td>09/01/2017</td>\n",
       "      <td>6.95</td>\n",
       "      <td>1.7</td>\n",
       "      <td>manhã</td>\n",
       "      <td>Feminino</td>\n",
       "      <td>Solteiro(a)</td>\n",
       "      <td>Superior</td>\n",
       "      <td>BRASÍLIA</td>\n",
       "      <td>Guará I</td>\n",
       "    </tr>\n",
       "  </tbody>\n",
       "</table>\n",
       "</div>"
      ],
      "text/plain": [
       "   Unnamed: 0 prova_realizada_em dia_da_prova_realizada  nota  nota_redacao  \\\n",
       "0           0         GO - Goiás             13/01/2017  7.45           2.2   \n",
       "1           1         GO - Goiás             10/01/2017  7.40           2.4   \n",
       "2           2         GO - Goiás             07/01/2017  7.30           1.8   \n",
       "3           3         GO - Goiás             02/01/2017  7.20           1.7   \n",
       "4           4         GO - Goiás             09/01/2017  6.95           1.7   \n",
       "\n",
       "  horario_da_prova       sexo estado_civil    escolaridade  \\\n",
       "0            manhã  Masculino    Casado(a)    Ensino médio   \n",
       "1            manhã  Masculino    Casado(a)  Especialização   \n",
       "2            manhã  Masculino    Casado(a)        Superior   \n",
       "3            Noite  Masculino  Solteiro(a)    Ensino médio   \n",
       "4            manhã   Feminino  Solteiro(a)        Superior   \n",
       "\n",
       "  cidade_de_nascimento                bairro  \n",
       "0            fortaleza               Asa Sul  \n",
       "1               Recife  Norte (Águas Claras)  \n",
       "2             BRASILIA        Setor Sudoeste  \n",
       "3             Brasília           Setor Norte  \n",
       "4             BRASÍLIA               Guará I  "
      ]
     },
     "execution_count": 20,
     "metadata": {},
     "output_type": "execute_result"
    }
   ],
   "source": [
    "aprovados.head()"
   ]
  },
  {
   "cell_type": "markdown",
   "metadata": {},
   "source": [
    "Agora, cada coluna será analisada individualmente, começando com os estados, onde as provas foram realizadas."
   ]
  },
  {
   "cell_type": "code",
   "execution_count": 21,
   "metadata": {},
   "outputs": [
    {
     "name": "stdout",
     "output_type": "stream",
     "text": [
      "PA - Pará                   618\n",
      "GO - Goiás                  577\n",
      "RJ - Rio de Janeiro         480\n",
      "MG - Minas Gerais           431\n",
      "MS - Mato Grosso do Sul     416\n",
      "BA - Bahia                  407\n",
      "PB - Paraíba                348\n",
      "MA - Maranhão               333\n",
      "RR - Roraima                326\n",
      "SC - Santa Catarina         320\n",
      "CE - Ceará                  292\n",
      "RS - Rio Grande do Sul      280\n",
      "RO - Rondônia               209\n",
      "TO - Tocantins              197\n",
      "MT - Mato Grosso            165\n",
      "PE - Pernambuco              84\n",
      "RN - Rio Grande do Norte     83\n",
      "SE - Sergipe                 73\n",
      "AM - Amazonas                65\n",
      "PI - Piauí                   60\n",
      "ES - Espírito Santo          49\n",
      "Name: prova_realizada_em, dtype: int64\n",
      "\n",
      "\n",
      "PA - Pará                   1546\n",
      "GO - Goiás                  1333\n",
      "MG - Minas Gerais            898\n",
      "BA - Bahia                   880\n",
      "MS - Mato Grosso do Sul      837\n",
      "RR - Roraima                 783\n",
      "RJ - Rio de Janeiro          777\n",
      "MA - Maranhão                722\n",
      "PB - Paraíba                 609\n",
      "CE - Ceará                   556\n",
      "SC - Santa Catarina          545\n",
      "RO - Rondônia                453\n",
      "RS - Rio Grande do Sul       411\n",
      "MT - Mato Grosso             332\n",
      "TO - Tocantins               325\n",
      "SE - Sergipe                 242\n",
      "RN - Rio Grande do Norte     230\n",
      "PE - Pernambuco              209\n",
      "PI - Piauí                   141\n",
      "ES - Espírito Santo          126\n",
      "AM - Amazonas                105\n",
      "Name: prova_realizada_em, dtype: int64\n"
     ]
    }
   ],
   "source": [
    "print(aprovados.prova_realizada_em.value_counts())\n",
    "print('\\n')\n",
    "print(base.prova_realizada_em.value_counts())"
   ]
  },
  {
   "cell_type": "code",
   "execution_count": 22,
   "metadata": {},
   "outputs": [
    {
     "data": {
      "image/png": "[encoded data removed]",
      "text/plain": [
       "<Figure size 648x432 with 1 Axes>"
      ]
     },
     "metadata": {
      "needs_background": "light"
     },
     "output_type": "display_data"
    }
   ],
   "source": [
    "#Figura 3: Número de alunos aprovados e totalpor região\n",
    "survivedf = [618, 577, 480, 431, 416, 407, 348, 333, 326, 320, 292, 280, 209, 197, 165, \n",
    "             84, 83, 73, 65,60, 49] # contagem de alunos aprovados\n",
    "nsurvivedf = [1546, 1333, 898, 880, 837, 783, 777, 722, 609, 556, 545, 453, 411, 332, 325, \n",
    "              242, 230, 209, 141, 126, 105] # contagem total de alunos\n",
    "Pclass = ['Pará', 'Goiás', 'Minas Gerais', 'Bahia', 'Mato Grosso do Sul', 'Roraima', 'Rio de Janeiro',\n",
    "         'Maranhão', 'Paraíba', 'Ceará', 'Santa Catarina', 'Rondônia', 'Rio Grande do Sul',\n",
    "         'Mato grosso', 'Tocantins', 'Sergipe', 'Rio Grande do Norte', 'Pernambuco', 'Piauí',\n",
    "         'Espírito Santo', 'Amazonas'] # estados\n",
    "\n",
    "pos = np.arange(21) # posições das barras\n",
    "tam = .35 # distancia das barras.\n",
    "\n",
    "fig, ax = plt.subplots(figsize=(9, 6)) \n",
    "plt1 = ax.bar(pos-tam/2, survivedf, tam, color = (0.8, 0.7, 0.2, 0.7), label = 'aprovados')\n",
    "plt2 = ax.bar(pos+tam/2, nsurvivedf, tam, color = (0.0, 0.3, 0.6, 0.9), label = 'total de alunos')\n",
    "\n",
    "ax.set_title('Número de alunos aprovados e total por região', \n",
    "             fontsize = 16, \n",
    "             fontweight = 'bold')\n",
    "ax.set_xlabel('Estados', fontsize = 15)\n",
    "ax.set_ylabel('Contagem de pessoas', fontsize = 15)\n",
    "\n",
    "ax.set_xticks(pos) \n",
    "\n",
    "ax.set_xticklabels(Pclass, rotation = 90, ha = 'right') \n",
    "ax.legend(); "
   ]
  },
  {
   "cell_type": "code",
   "execution_count": 23,
   "metadata": {},
   "outputs": [
    {
     "data": {
      "text/plain": [
       "AM - Amazonas               0.619048\n",
       "BA - Bahia                  0.462500\n",
       "CE - Ceará                  0.525180\n",
       "ES - Espírito Santo         0.388889\n",
       "GO - Goiás                  0.432858\n",
       "MA - Maranhão               0.461219\n",
       "MG - Minas Gerais           0.479955\n",
       "MS - Mato Grosso do Sul     0.497013\n",
       "MT - Mato Grosso            0.496988\n",
       "PA - Pará                   0.399741\n",
       "PB - Paraíba                0.571429\n",
       "PE - Pernambuco             0.401914\n",
       "PI - Piauí                  0.425532\n",
       "RJ - Rio de Janeiro         0.617761\n",
       "RN - Rio Grande do Norte    0.360870\n",
       "RO - Rondônia               0.461369\n",
       "RR - Roraima                0.416347\n",
       "RS - Rio Grande do Sul      0.681265\n",
       "SC - Santa Catarina         0.587156\n",
       "SE - Sergipe                0.301653\n",
       "TO - Tocantins              0.606154\n",
       "Name: prova_realizada_em, dtype: float64"
      ]
     },
     "execution_count": 23,
     "metadata": {},
     "output_type": "execute_result"
    }
   ],
   "source": [
    "#Razão de alunos aprovados por região\n",
    "aprovados.prova_realizada_em.value_counts() / base.prova_realizada_em.value_counts()"
   ]
  },
  {
   "cell_type": "markdown",
   "metadata": {},
   "source": [
    "Analisando o número de aprovados por região, observa-se que o Pará teve mais alunos do que os outros lugares. Entretanto, quando é observado a taxa de aprovados, este estado apresenta apenas 0,40 (40%). De todos os estados, os 3 que tiveram o melhor índice de aprovados foram: Rio Grande do Sul (0,68), Amazonas (0,62) e Rio de Janeiro (0,62), respectivamente."
   ]
  },
  {
   "cell_type": "code",
   "execution_count": 24,
   "metadata": {},
   "outputs": [
    {
     "data": {
      "text/plain": [
       "(1.679272320660585, 6.14177017030794)"
      ]
     },
     "execution_count": 24,
     "metadata": {},
     "output_type": "execute_result"
    }
   ],
   "source": [
    "#média das notas de redação e notas de prova\n",
    "aprovados.nota_redacao.mean(), aprovados.nota.mean()"
   ]
  },
  {
   "cell_type": "markdown",
   "metadata": {},
   "source": [
    "Analisando as notas médias de redação e notas de prova, lembrando da tabela de descrição estatística no começo do desse arquivo, percebe-se claramente que eles correspondem aos quartis 3, ou seja, as notas dos 25% melhores alunos."
   ]
  },
  {
   "cell_type": "code",
   "execution_count": 25,
   "metadata": {},
   "outputs": [
    {
     "name": "stdout",
     "output_type": "stream",
     "text": [
      "Noite    3245\n",
      "manhã    2568\n",
      "Name: horario_da_prova, dtype: int64\n",
      "\n",
      "\n",
      "Noite    6782\n",
      "manhã    5278\n",
      "Name: horario_da_prova, dtype: int64\n",
      "\n",
      "\n",
      "Noite    0.478472\n",
      "manhã    0.486548\n",
      "Name: horario_da_prova, dtype: float64\n"
     ]
    }
   ],
   "source": [
    "#Em cima, período do dia em que os alunos aprovados fizeram a prova\n",
    "#No meio, são os dados totais de alunos\n",
    "#Na parte de baixo, a razão dos alunos aprovados em relação ao período do dia\n",
    "print(aprovados.horario_da_prova.value_counts())\n",
    "print('\\n')\n",
    "print(base.horario_da_prova.value_counts())\n",
    "print('\\n')\n",
    "print(aprovados.horario_da_prova.value_counts()/base.horario_da_prova.value_counts())"
   ]
  },
  {
   "cell_type": "code",
   "execution_count": 26,
   "metadata": {},
   "outputs": [
    {
     "data": {
      "image/png": "[encoded data removed]",
      "text/plain": [
       "<Figure size 648x432 with 1 Axes>"
      ]
     },
     "metadata": {
      "needs_background": "light"
     },
     "output_type": "display_data"
    }
   ],
   "source": [
    "#Figura 4: Contagem de alunos que fizeram prova no período da manhã e noite\n",
    "noite = [3245, 6782] # contagem de alunos que fizeram a prova de noite\n",
    "manha = [2568, 5278] # contagem de alunos que fizeram a prova de manhã\n",
    "Pclass = ['aprovados', 'total'] \n",
    "\n",
    "pos = np.arange(2) # posições das barras\n",
    "tam = .35 # distancia das barras.\n",
    "\n",
    "fig, ax = plt.subplots(figsize=(9,6))\n",
    "plt1 = ax.bar(pos-tam/2, noite, tam, color = (0.4, 0.5, 0.4, 0.8), label = 'Noite')\n",
    "plt2 = ax.bar(pos+tam/2, manha, tam, color = (0.3, 0.5, 0.7, 0.9), label = 'Manhã')\n",
    "\n",
    "ax.set_title('Contagem de alunos que fizeram prova no período da manhã e noite', \n",
    "             fontsize = 14, \n",
    "             fontweight = 'bold')\n",
    "ax.set_xlabel('Alunos', fontsize = 15)\n",
    "ax.set_ylabel('Contagem de alunos', fontsize = 15)\n",
    "\n",
    "ax.set_xticks(pos) \n",
    "\n",
    "ax.set_xticklabels(Pclass, rotation = 0, ha = 'right') \n",
    "ax.legend(); "
   ]
  },
  {
   "cell_type": "markdown",
   "metadata": {},
   "source": [
    "Quanto aos dados do horário da prova, pelas informações acima, observa-se que o número de alunos que fizeram as provas no período noturno, foi bem maior do que os do matutino. Entretanto, proporcionalmente, os alunos que fizeram na parte da manhã foram melhores. Enquanto, o matutino obteve 48,64% de aprovação e o noturno alcançou 47,85%. Estatisticamente essa diferença não é representativa."
   ]
  },
  {
   "cell_type": "code",
   "execution_count": 27,
   "metadata": {},
   "outputs": [
    {
     "name": "stdout",
     "output_type": "stream",
     "text": [
      "Masculino    3503\n",
      "Feminino     2310\n",
      "Name: sexo, dtype: int64\n",
      "\n",
      "\n",
      "Masculino    6642\n",
      "Feminino     5418\n",
      "Name: sexo, dtype: int64\n",
      "\n",
      "\n",
      "Masculino    0.527401\n",
      "Feminino     0.426357\n",
      "Name: sexo, dtype: float64\n"
     ]
    }
   ],
   "source": [
    "#Em cima, número de homens e mulheres aprovados\n",
    "#No meio, são os dados totais de alunos\n",
    "#Na parte de baixo, porcentagem de homens e mulheres aprovados\n",
    "print(aprovados.sexo.value_counts())\n",
    "print('\\n')\n",
    "print(base.sexo.value_counts())\n",
    "print('\\n')\n",
    "print(aprovados.sexo.value_counts()/base.sexo.value_counts())"
   ]
  },
  {
   "cell_type": "code",
   "execution_count": 28,
   "metadata": {},
   "outputs": [
    {
     "data": {
      "image/png": "[encoded data removed]",
      "text/plain": [
       "<Figure size 648x432 with 1 Axes>"
      ]
     },
     "metadata": {
      "needs_background": "light"
     },
     "output_type": "display_data"
    }
   ],
   "source": [
    "#Figura 5: Contagem de homens e mulheres que fizeram a prova\n",
    "masculino = [3503, 6642] # contagem de homens\n",
    "feminino = [2310, 5418] # contagem de mulheres \n",
    "Pclass = ['aprovados', 'total'] \n",
    "\n",
    "pos = np.arange(2) # posições das barras\n",
    "tam = .35 # distancia das barras.\n",
    "\n",
    "fig, ax = plt.subplots(figsize=(9, 6))\n",
    "plt1 = ax.bar(pos-tam/2, masculino, tam, color=(0.3, 0.5, 0.7, 0.9), label = 'Masculino')\n",
    "plt2 = ax.bar(pos+tam/2, feminino, tam, color=(0.9, 0.3, 0.6, 0.9), label = 'Feminino')\n",
    "\n",
    "ax.set_title('Contagem de homens e mulheres que fizeram a prova', \n",
    "             fontsize = 16, \n",
    "             fontweight = 'bold')\n",
    "ax.set_xlabel('Alunos', fontsize = 15)\n",
    "ax.set_ylabel('Contagem de alunos', fontsize = 15)\n",
    "\n",
    "ax.set_xticks(pos) \n",
    "\n",
    "ax.set_xticklabels(Pclass, rotation = 0, ha = 'right') \n",
    "ax.legend(); "
   ]
  },
  {
   "cell_type": "markdown",
   "metadata": {},
   "source": [
    "Com relação ao sexo dos alunos, numericamente os homens tiveram um melhor resultado. Porém, essa vantagem não é tão relevante a ponto de ser facilmente visualizada no gráfico acima."
   ]
  },
  {
   "cell_type": "code",
   "execution_count": 29,
   "metadata": {},
   "outputs": [
    {
     "data": {
      "image/png": "[encoded data removed]",
      "text/plain": [
       "<Figure size 648x432 with 1 Axes>"
      ]
     },
     "metadata": {
      "needs_background": "light"
     },
     "output_type": "display_data"
    }
   ],
   "source": [
    "#Figura 6: Número de aprovados de acordo com o estado civil do candidato\n",
    "aprovados.estado_civil.value_counts().plot(kind = 'bar', fontsize = 14,\n",
    "                                           figsize = (9, 6));"
   ]
  },
  {
   "cell_type": "markdown",
   "metadata": {},
   "source": [
    "O número de solteiros foi praticamente o dobro da soma dos outros estados civis. Uma possível causa é que esses alunos são mais jovens e estão em idade escolar. "
   ]
  },
  {
   "cell_type": "code",
   "execution_count": 30,
   "metadata": {},
   "outputs": [
    {
     "data": {
      "image/png": "[encoded data removed]",
      "text/plain": [
       "<Figure size 648x432 with 1 Axes>"
      ]
     },
     "metadata": {
      "needs_background": "light"
     },
     "output_type": "display_data"
    }
   ],
   "source": [
    "#Figura 7: Número de aprovados de acordo com a escolaridade\n",
    "aprovados.escolaridade.value_counts().plot(kind = 'bar', fontsize = 13,\n",
    "                                           figsize = (9, 6));"
   ]
  },
  {
   "cell_type": "code",
   "execution_count": 31,
   "metadata": {},
   "outputs": [
    {
     "data": {
      "text/plain": [
       "Unnamed: 0                2102\n",
       "prova_realizada_em        2102\n",
       "dia_da_prova_realizada    2102\n",
       "nota                      2102\n",
       "nota_redacao              2102\n",
       "horario_da_prova          2102\n",
       "sexo                      2102\n",
       "estado_civil              2102\n",
       "escolaridade              2102\n",
       "cidade_de_nascimento      2102\n",
       "bairro                    2102\n",
       "dtype: int64"
      ]
     },
     "execution_count": 31,
     "metadata": {},
     "output_type": "execute_result"
    }
   ],
   "source": [
    "aprovados.query(\"escolaridade == 'Ensino médio' and estado_civil == 'Solteiro(a)'\").count()"
   ]
  },
  {
   "cell_type": "code",
   "execution_count": 32,
   "metadata": {},
   "outputs": [
    {
     "data": {
      "text/plain": [
       "Unnamed: 0                5813\n",
       "prova_realizada_em        5813\n",
       "dia_da_prova_realizada    5813\n",
       "nota                      5813\n",
       "nota_redacao              5813\n",
       "horario_da_prova          5813\n",
       "sexo                      5813\n",
       "estado_civil              5813\n",
       "escolaridade              5813\n",
       "cidade_de_nascimento      5813\n",
       "bairro                    5813\n",
       "dtype: int64"
      ]
     },
     "execution_count": 32,
     "metadata": {},
     "output_type": "execute_result"
    }
   ],
   "source": [
    "aprovados.count()"
   ]
  },
  {
   "cell_type": "markdown",
   "metadata": {},
   "source": [
    "O gráfico de escolaridade segue o mesmo comportamento que o do estado civil. Utilizando um filtro para verificar o número de alunos solteiros do ensino médio, observa-se que eles são 2102 pessoas e o número total de aprovados é de 5813, valor bem considerável."
   ]
  },
  {
   "cell_type": "code",
   "execution_count": 33,
   "metadata": {},
   "outputs": [
    {
     "data": {
      "text/plain": [
       "Unnamed: 0                1783\n",
       "prova_realizada_em        1783\n",
       "dia_da_prova_realizada    1783\n",
       "nota                      1783\n",
       "nota_redacao              1783\n",
       "horario_da_prova          1783\n",
       "sexo                      1783\n",
       "estado_civil              1783\n",
       "escolaridade              1783\n",
       "cidade_de_nascimento      1783\n",
       "bairro                    1783\n",
       "dtype: int64"
      ]
     },
     "execution_count": 33,
     "metadata": {},
     "output_type": "execute_result"
    }
   ],
   "source": [
    "aprovados.query(\"estado_civil == 'Casado(a)'\").count()"
   ]
  },
  {
   "cell_type": "code",
   "execution_count": 34,
   "metadata": {},
   "outputs": [
    {
     "data": {
      "text/plain": [
       "Unnamed: 0                918\n",
       "prova_realizada_em        918\n",
       "dia_da_prova_realizada    918\n",
       "nota                      918\n",
       "nota_redacao              918\n",
       "horario_da_prova          918\n",
       "sexo                      918\n",
       "estado_civil              918\n",
       "escolaridade              918\n",
       "cidade_de_nascimento      918\n",
       "bairro                    918\n",
       "dtype: int64"
      ]
     },
     "execution_count": 34,
     "metadata": {},
     "output_type": "execute_result"
    }
   ],
   "source": [
    "aprovados.query(\"estado_civil == 'Casado(a)' and escolaridade == 'Ensino médio'\").count()"
   ]
  },
  {
   "cell_type": "code",
   "execution_count": 35,
   "metadata": {},
   "outputs": [
    {
     "data": {
      "text/plain": [
       "Solteiro(a)      0.461462\n",
       "Casado(a)        0.518766\n",
       "Divorciado(a)    0.568493\n",
       "Separado(a)      0.457364\n",
       "Viúvo(a)         0.600000\n",
       "0                0.333333\n",
       "Name: estado_civil, dtype: float64"
      ]
     },
     "execution_count": 35,
     "metadata": {},
     "output_type": "execute_result"
    }
   ],
   "source": [
    "aprovados.estado_civil.value_counts() / base.estado_civil.value_counts()"
   ]
  },
  {
   "cell_type": "code",
   "execution_count": 36,
   "metadata": {},
   "outputs": [
    {
     "data": {
      "text/plain": [
       "Unnamed: 0                35\n",
       "prova_realizada_em        35\n",
       "dia_da_prova_realizada    35\n",
       "nota                      35\n",
       "nota_redacao              35\n",
       "horario_da_prova          35\n",
       "sexo                      35\n",
       "estado_civil              35\n",
       "escolaridade              35\n",
       "cidade_de_nascimento      35\n",
       "bairro                    35\n",
       "dtype: int64"
      ]
     },
     "execution_count": 36,
     "metadata": {},
     "output_type": "execute_result"
    }
   ],
   "source": [
    "base.query(\"estado_civil == 'Viúvo(a)'\").count()"
   ]
  },
  {
   "cell_type": "code",
   "execution_count": 37,
   "metadata": {},
   "outputs": [
    {
     "data": {
      "text/plain": [
       "Unnamed: 0                249\n",
       "prova_realizada_em        249\n",
       "dia_da_prova_realizada    249\n",
       "nota                      249\n",
       "nota_redacao              249\n",
       "horario_da_prova          249\n",
       "sexo                      249\n",
       "estado_civil              249\n",
       "escolaridade              249\n",
       "cidade_de_nascimento      249\n",
       "bairro                    249\n",
       "dtype: int64"
      ]
     },
     "execution_count": 37,
     "metadata": {},
     "output_type": "execute_result"
    }
   ],
   "source": [
    "aprovados.query(\"estado_civil == 'Divorciado(a)'\").count()"
   ]
  },
  {
   "cell_type": "code",
   "execution_count": 38,
   "metadata": {},
   "outputs": [
    {
     "data": {
      "text/plain": [
       "Unnamed: 0                438\n",
       "prova_realizada_em        438\n",
       "dia_da_prova_realizada    438\n",
       "nota                      438\n",
       "nota_redacao              438\n",
       "horario_da_prova          438\n",
       "sexo                      438\n",
       "estado_civil              438\n",
       "escolaridade              438\n",
       "cidade_de_nascimento      438\n",
       "bairro                    438\n",
       "dtype: int64"
      ]
     },
     "execution_count": 38,
     "metadata": {},
     "output_type": "execute_result"
    }
   ],
   "source": [
    "base.query(\"estado_civil == 'Divorciado(a)'\").count()"
   ]
  },
  {
   "cell_type": "markdown",
   "metadata": {},
   "source": [
    "Os casados e aprovados correspondem a 1783 alunos, sendo que desse número 918 são do ensino médio. Considerando os solteiros mais os casados com escolaridade de ensino médio, temos um total de 3020 pessoas, esse valor representa mais da metade dos alunos aprovados. Entretanto, os viúvos(a) foram os mais eficientes. Dos 35 que prestaram as provas, 21 foram aprovados, dessa forma eles atingiram a marca de 60% de aprovação. Logo em seguida aparecem os Divorciados com 57% de aprovação, mas dessa vez o número foi bem mais considerável, de 438 que fizeram as provas, 249 foram aprovados."
   ]
  },
  {
   "cell_type": "code",
   "execution_count": 39,
   "metadata": {},
   "outputs": [
    {
     "data": {
      "text/plain": [
       "Belo Horizonte                 54\n",
       "Fortaleza                      44\n",
       "BOA VISTA                      42\n",
       "Rio de Janeiro                 41\n",
       "Belém                          40\n",
       "Goiânia                        39\n",
       "Salvador                       38\n",
       "BELO HORIZONTE                 37\n",
       "IMPERATRIZ                     36\n",
       "Balsas                         36\n",
       "Imperatriz                     36\n",
       "FORTALEZA                      36\n",
       "Boa Vista                      35\n",
       "Capanema                       30\n",
       "Campo Grande                   30\n",
       "João Pessoa                    29\n",
       "Campina Grande                 29\n",
       "São Sepé                       29\n",
       "Barra Mansa                    26\n",
       "Cruz Alta                      25\n",
       "SALVADOR                       25\n",
       "São Paulo                      24\n",
       "boa vista                      24\n",
       "CAMPO GRANDE                   24\n",
       "Volta Redonda                  24\n",
       "CRUZ ALTA                      22\n",
       "Quixeramobim                   21\n",
       "Paragominas                    21\n",
       "Boa vista                      21\n",
       "Manaus                         21\n",
       "                               ..\n",
       "cerejeiras                      1\n",
       "MARMELEIRO                      1\n",
       "ronda alta                      1\n",
       "ruropolis                       1\n",
       "maurilandia                     1\n",
       "CORDISBURGO                     1\n",
       "NOVA PALMEIRA                   1\n",
       "são francisco de assis          1\n",
       "esmeraldas                      1\n",
       "IMBITUBA                        1\n",
       "são sepe                        1\n",
       "Quixaramobim                    1\n",
       "Campo Alegre                    1\n",
       "Colorado                        1\n",
       "ITAPERUNA                       1\n",
       "ITUPORANGA                      1\n",
       "Senhoz do bonfim                1\n",
       "FREI PAULO                      1\n",
       "araputanga                      1\n",
       "ESPERANTINOPOLIS                1\n",
       "Sao Francisco de Itabapoana     1\n",
       "centralina                      1\n",
       "são Fidélis                     1\n",
       "PACARAIMA                       1\n",
       "maracaju                        1\n",
       "aNÁPOLIS                        1\n",
       "NOVA IGUAÇÚ                     1\n",
       "APARECIDA DO TABOADOA           1\n",
       "Mucajai                         1\n",
       "camamu                          1\n",
       "Name: cidade_de_nascimento, Length: 2698, dtype: int64"
      ]
     },
     "execution_count": 39,
     "metadata": {},
     "output_type": "execute_result"
    }
   ],
   "source": [
    "aprovados['cidade_de_nascimento'].value_counts()"
   ]
  },
  {
   "cell_type": "code",
   "execution_count": 40,
   "metadata": {},
   "outputs": [
    {
     "data": {
      "text/plain": [
       "Centro                           1168\n",
       "Setor Central                     131\n",
       "ZONA RURAL                         76\n",
       "Zona Rural                         68\n",
       "CENTRO                             46\n",
       "zona rural                         43\n",
       "centro                             35\n",
       "Cidade Nova                        26\n",
       "São José                           25\n",
       "Santo Antônio                      24\n",
       "interior                           21\n",
       "Plano Diretor Sul                  20\n",
       "Jardim América                     19\n",
       "INTERIOR                           18\n",
       "Promissão II                       16\n",
       "Interior                           16\n",
       "Zona rural                         16\n",
       "Vila Nova                          14\n",
       "Rural                              14\n",
       "Plano Diretor Norte                13\n",
       "São Francisco                      12\n",
       "São Cristóvão                      12\n",
       "Alvorada                           12\n",
       "Bela Vista                         12\n",
       "Liberdade                          11\n",
       "Cidade Satélite                    11\n",
       "Santo Agostinho                    10\n",
       "São João                           10\n",
       "Nova Imperatriz                    10\n",
       "Caranã                             10\n",
       "                                 ... \n",
       "Boa Parada                          1\n",
       "Parque das Palmeiras                1\n",
       "Vila Itália                         1\n",
       "Setor Casego                        1\n",
       "CONJ. AGUINALDO VELOSO BORGES       1\n",
       "97170                               1\n",
       "Porenquanto                         1\n",
       "SETOR PARAÍSO                       1\n",
       "Coophavila II                       1\n",
       "Davinópolis                         1\n",
       "SÃO JOSÉ DAS ROLINHAS               1\n",
       "Parque das Nações                   1\n",
       "Alto do daminhao                    1\n",
       "Jardim Ipê                          1\n",
       "Bela Vista III                      1\n",
       "JARDIM MINUANO                      1\n",
       "N S Aparecida                       1\n",
       "Timbaúba do Campo                   1\n",
       "Taperapuan                          1\n",
       "Jardim Limoeiro                     1\n",
       "Vila Alvorada                       1\n",
       "S. Caetano                          1\n",
       "Alvorada                            1\n",
       "Fazenda Diamante 3                  1\n",
       "Bom Jesus                           1\n",
       "Povoado Joia do Rio II              1\n",
       "jardim aliança                      1\n",
       "BOM JESUS                           1\n",
       "Santa CRuz                          1\n",
       "Morada do Sol                       1\n",
       "Name: bairro, Length: 2609, dtype: int64"
      ]
     },
     "execution_count": 40,
     "metadata": {},
     "output_type": "execute_result"
    }
   ],
   "source": [
    "aprovados.bairro.value_counts()"
   ]
  },
  {
   "cell_type": "markdown",
   "metadata": {},
   "source": [
    "Os dados da cidade de nascimento, dependendo de como forem usados, podem fornecer um grande viés, pois uma pessoa que nasceu numa cidade, pode se mudar e ir estudar em outro lugar. A não ser que a base de dados seja muito grande, até mesmo para treinar os algoritmos de machine learning pode ser um problema, porque uma pessoa dificilmente irá seguir os mesmos caminhos que uma outra."
   ]
  },
  {
   "cell_type": "code",
   "execution_count": 41,
   "metadata": {},
   "outputs": [
    {
     "data": {
      "text/plain": [
       "Doutorado              0.727273\n",
       "Ensino fundamental     0.270270\n",
       "Ensino médio           0.414197\n",
       "Especialização         0.684358\n",
       "MBA                    0.840000\n",
       "Mestrado               0.750000\n",
       "Não informado          0.571429\n",
       "Nível técnico          0.494062\n",
       "Superior               0.617842\n",
       "Superior incompleto    0.573230\n",
       "Name: escolaridade, dtype: float64"
      ]
     },
     "execution_count": 41,
     "metadata": {},
     "output_type": "execute_result"
    }
   ],
   "source": [
    "aprovados.escolaridade.value_counts() / base.escolaridade.value_counts()"
   ]
  },
  {
   "cell_type": "markdown",
   "metadata": {},
   "source": [
    "Observando a razão entre a escolaridade dos aprovados, percebe-se que os que possuem MBA, Mestrado, Doutorado e especialização foram melhores proporcionalmente."
   ]
  },
  {
   "cell_type": "markdown",
   "metadata": {},
   "source": [
    "De uma forma geral, todas as regiões tiveram aprovações, entretanto, os estados do Rio Grande do Sul, Amazonas e Rio de Janeiro apresentaram um destaque nesse quesito. Eles foram os mais aprovados proporcionalmente ao número de candidatos que prestaram a prova.\n",
    "\n",
    "Alunos que fizeram a prova no período da manhã, tiveram uma leve vantagem sobre os que fizeram no noturno. Uma outra pequena vantagem foi a do sexo masculino sobre o feminino, porém tal vantagem foi tão baixa que não é facilmente observada no gráfico correspondente.\n",
    "\n",
    "Uma informação importante é de que os alunos do ensino médio (solteiros(a) e casados(a)) tiveram um maior número de pessoas em relação as outras categorias, correspondendo a um pouco mais de 50% dos aprovados, entretanto, não necessariamente que eles tenham tido uma maior eficiência já que, proporcionalmente ao grau de escolaridade dos alunos que prestaram a prova, os que possuíam um maior grau de escolaridade (MBA, mestrado, doutorado e especialização) foram os que obtiveram mais aprovações.\n",
    "\n",
    "Esses resultados seriam um primeiro informe ao grupo de marketing."
   ]
  },
  {
   "cell_type": "markdown",
   "metadata": {},
   "source": [
    "# Treinamento dos algoritmos de machine learning com a base de dados dos alunos\n",
    "\n",
    "Nesta parte, será feito o treinamento de alguns algoritmos para preverem se um aluno com certas características seria aprovado ou reprovado. Para evitar algum conflito com os dados analisados anteriormente, o tratamento de dados será feito desde o início."
   ]
  },
  {
   "cell_type": "code",
   "execution_count": 42,
   "metadata": {},
   "outputs": [],
   "source": [
    "df = pd.read_csv('DOT_teste_data_science.csv', encoding = \"ISO-8859-1\", decimal = ',')"
   ]
  },
  {
   "cell_type": "code",
   "execution_count": 43,
   "metadata": {},
   "outputs": [
    {
     "data": {
      "text/html": [
       "<div>\n",
       "<style scoped>\n",
       "    .dataframe tbody tr th:only-of-type {\n",
       "        vertical-align: middle;\n",
       "    }\n",
       "\n",
       "    .dataframe tbody tr th {\n",
       "        vertical-align: top;\n",
       "    }\n",
       "\n",
       "    .dataframe thead th {\n",
       "        text-align: right;\n",
       "    }\n",
       "</style>\n",
       "<table border=\"1\" class=\"dataframe\">\n",
       "  <thead>\n",
       "    <tr style=\"text-align: right;\">\n",
       "      <th></th>\n",
       "      <th>Unnamed: 0</th>\n",
       "      <th>prova_realizada_em</th>\n",
       "      <th>dia_da_prova_realizada</th>\n",
       "      <th>nota</th>\n",
       "      <th>nota_redacao</th>\n",
       "      <th>horario_da_prova</th>\n",
       "      <th>sexo</th>\n",
       "      <th>estado_civil</th>\n",
       "      <th>escolaridade</th>\n",
       "      <th>cidade_de_nascimento</th>\n",
       "      <th>bairro</th>\n",
       "    </tr>\n",
       "  </thead>\n",
       "  <tbody>\n",
       "    <tr>\n",
       "      <th>0</th>\n",
       "      <td>0</td>\n",
       "      <td>GO - Goiás</td>\n",
       "      <td>13/01/2017</td>\n",
       "      <td>7.45</td>\n",
       "      <td>2.2</td>\n",
       "      <td>manhã</td>\n",
       "      <td>Masculino</td>\n",
       "      <td>Casado(a)</td>\n",
       "      <td>Ensino médio</td>\n",
       "      <td>fortaleza</td>\n",
       "      <td>Asa Sul</td>\n",
       "    </tr>\n",
       "    <tr>\n",
       "      <th>1</th>\n",
       "      <td>1</td>\n",
       "      <td>GO - Goiás</td>\n",
       "      <td>10/01/2017</td>\n",
       "      <td>7.40</td>\n",
       "      <td>2.4</td>\n",
       "      <td>manhã</td>\n",
       "      <td>Masculino</td>\n",
       "      <td>Casado(a)</td>\n",
       "      <td>Especialização</td>\n",
       "      <td>Recife</td>\n",
       "      <td>Norte (Águas Claras)</td>\n",
       "    </tr>\n",
       "    <tr>\n",
       "      <th>2</th>\n",
       "      <td>2</td>\n",
       "      <td>GO - Goiás</td>\n",
       "      <td>07/01/2017</td>\n",
       "      <td>7.30</td>\n",
       "      <td>1.8</td>\n",
       "      <td>manhã</td>\n",
       "      <td>Masculino</td>\n",
       "      <td>Casado(a)</td>\n",
       "      <td>Superior</td>\n",
       "      <td>BRASILIA</td>\n",
       "      <td>Setor Sudoeste</td>\n",
       "    </tr>\n",
       "    <tr>\n",
       "      <th>3</th>\n",
       "      <td>3</td>\n",
       "      <td>GO - Goiás</td>\n",
       "      <td>02/01/2017</td>\n",
       "      <td>7.20</td>\n",
       "      <td>1.7</td>\n",
       "      <td>Noite</td>\n",
       "      <td>Masculino</td>\n",
       "      <td>Solteiro(a)</td>\n",
       "      <td>Ensino médio</td>\n",
       "      <td>Brasília</td>\n",
       "      <td>Setor Norte</td>\n",
       "    </tr>\n",
       "    <tr>\n",
       "      <th>4</th>\n",
       "      <td>4</td>\n",
       "      <td>GO - Goiás</td>\n",
       "      <td>09/01/2017</td>\n",
       "      <td>6.95</td>\n",
       "      <td>1.7</td>\n",
       "      <td>manhã</td>\n",
       "      <td>Feminino</td>\n",
       "      <td>Solteiro(a)</td>\n",
       "      <td>Superior</td>\n",
       "      <td>BRASÍLIA</td>\n",
       "      <td>Guará I</td>\n",
       "    </tr>\n",
       "  </tbody>\n",
       "</table>\n",
       "</div>"
      ],
      "text/plain": [
       "   Unnamed: 0 prova_realizada_em dia_da_prova_realizada  nota  nota_redacao  \\\n",
       "0           0         GO - Goiás             13/01/2017  7.45           2.2   \n",
       "1           1         GO - Goiás             10/01/2017  7.40           2.4   \n",
       "2           2         GO - Goiás             07/01/2017  7.30           1.8   \n",
       "3           3         GO - Goiás             02/01/2017  7.20           1.7   \n",
       "4           4         GO - Goiás             09/01/2017  6.95           1.7   \n",
       "\n",
       "  horario_da_prova       sexo estado_civil    escolaridade  \\\n",
       "0            manhã  Masculino    Casado(a)    Ensino médio   \n",
       "1            manhã  Masculino    Casado(a)  Especialização   \n",
       "2            manhã  Masculino    Casado(a)        Superior   \n",
       "3            Noite  Masculino  Solteiro(a)    Ensino médio   \n",
       "4            manhã   Feminino  Solteiro(a)        Superior   \n",
       "\n",
       "  cidade_de_nascimento                bairro  \n",
       "0            fortaleza               Asa Sul  \n",
       "1               Recife  Norte (Águas Claras)  \n",
       "2             BRASILIA        Setor Sudoeste  \n",
       "3             Brasília           Setor Norte  \n",
       "4             BRASÍLIA               Guará I  "
      ]
     },
     "execution_count": 43,
     "metadata": {},
     "output_type": "execute_result"
    }
   ],
   "source": [
    "df.head()"
   ]
  },
  {
   "cell_type": "markdown",
   "metadata": {},
   "source": [
    "Inicialmente, será dividida a coluna dia_da_prova_realizada em dia, mês e ano."
   ]
  },
  {
   "cell_type": "code",
   "execution_count": 44,
   "metadata": {},
   "outputs": [],
   "source": [
    "df[['dia','mes','ano']] = df.dia_da_prova_realizada.str.split(\"/\", expand = True) "
   ]
  },
  {
   "cell_type": "markdown",
   "metadata": {},
   "source": [
    "Colunas que não trazem informações relevantes serão apagadas. A coluna dia não informa nada sem estar unida com as colunas mês e ano; e a coluna ano será apagada para que os anos anteriores não influam nas previsões. A coluna mês permanecerá, pois a metade e fim do ano são duas épocas marcantes para a realização de provas. As colunas bairro e cidade_de_nascimento podem gerar viés, pois são muito específicas de cada aluno, como explicado anteriormente."
   ]
  },
  {
   "cell_type": "code",
   "execution_count": 45,
   "metadata": {},
   "outputs": [],
   "source": [
    "df.drop('dia_da_prova_realizada', axis = 1, inplace = True)\n",
    "df.drop('dia', axis = 1, inplace = True)\n",
    "df.drop('Unnamed: 0', axis = 1, inplace = True)\n",
    "df.drop('bairro',axis = 1, inplace = True)\n",
    "df.drop('cidade_de_nascimento', axis = 1, inplace = True)\n",
    "df.drop('ano', axis = 1, inplace = True)"
   ]
  },
  {
   "cell_type": "markdown",
   "metadata": {},
   "source": [
    "Como existem duas variáveis para que o aluno seja aprovado (nota da prova e nota da redação), uma nova coluna na tabela de dados será criada. Ela será uma coluna de desempenho do aluno, ou seja, caso ele tenha tirado nota maior ou igual a 5 e nota de redação maior do que 0 ele será aprovado, caso contrário será reprovado."
   ]
  },
  {
   "cell_type": "code",
   "execution_count": 46,
   "metadata": {},
   "outputs": [],
   "source": [
    "pass_col = []\n",
    "for _, row in df.iterrows():\n",
    "  if row['nota'] >= 5 and row['nota_redacao'] > 0:\n",
    "    pass_col.append('aprovado')\n",
    "  else:\n",
    "    pass_col.append('reprovado')\n",
    "    \n",
    "df['desempenho'] = pd.Series(pass_col)"
   ]
  },
  {
   "cell_type": "code",
   "execution_count": 47,
   "metadata": {},
   "outputs": [],
   "source": [
    "#Excluindo as linhas com NAN\n",
    "df.dropna(inplace = True)"
   ]
  },
  {
   "cell_type": "code",
   "execution_count": 48,
   "metadata": {},
   "outputs": [],
   "source": [
    "ap = df.query(\"desempenho == 'aprovado'\")\n",
    "#ap.nota.value_counts()"
   ]
  },
  {
   "cell_type": "markdown",
   "metadata": {},
   "source": [
    "As previsões serão feitas com base numa classificação binária, ou seja, ou o aluno é aprovado ou reprovado. As colunas nota e nota_redação serão apagadas, pois a nova coluna já possui a informação delas em conjunto."
   ]
  },
  {
   "cell_type": "code",
   "execution_count": 49,
   "metadata": {},
   "outputs": [],
   "source": [
    "df.drop('nota', axis = 1, inplace = True)\n",
    "df.drop('nota_redacao', axis = 1, inplace = True)"
   ]
  },
  {
   "cell_type": "markdown",
   "metadata": {},
   "source": [
    "Agora os dados serão divididos em previsores e classe, onde os previsores serão todas as características dos alunos e a classe é o resultado do aluno."
   ]
  },
  {
   "cell_type": "code",
   "execution_count": 50,
   "metadata": {},
   "outputs": [],
   "source": [
    "previsores = df.iloc[:, 0:6].values \n",
    "classe = df.iloc[:, 6].values "
   ]
  },
  {
   "cell_type": "markdown",
   "metadata": {},
   "source": [
    "Como muitas variáveis são categóricas, é necessário transformá-las em numéricas para que os algorítmos consigam entendê-las."
   ]
  },
  {
   "cell_type": "code",
   "execution_count": 51,
   "metadata": {},
   "outputs": [],
   "source": [
    "labelencoder_previsores = LabelEncoder()\n",
    "\n",
    "previsores[:, 0] = labelencoder_previsores.fit_transform(previsores[:, 0])\n",
    "previsores[:, 1] = labelencoder_previsores.fit_transform(previsores[:, 1])\n",
    "previsores[:, 2] = labelencoder_previsores.fit_transform(previsores[:, 2])\n",
    "previsores[:, 3] = labelencoder_previsores.fit_transform(previsores[:, 3])\n",
    "previsores[:, 4] = labelencoder_previsores.fit_transform(previsores[:, 4])\n",
    "previsores[:, 5] = labelencoder_previsores.fit_transform(previsores[:, 5])"
   ]
  },
  {
   "cell_type": "code",
   "execution_count": 52,
   "metadata": {},
   "outputs": [],
   "source": [
    "labelencoder_classe = LabelEncoder()\n",
    "classe = labelencoder_classe.fit_transform(classe)"
   ]
  },
  {
   "cell_type": "markdown",
   "metadata": {},
   "source": [
    "Agora que as variáveis estão transformadas em numéricas, a etapa seguinte é o escalonamento delas. Essa etapa consistem em fazer com que todas as colunas tenham a mesma escala."
   ]
  },
  {
   "cell_type": "code",
   "execution_count": 53,
   "metadata": {},
   "outputs": [
    {
     "name": "stderr",
     "output_type": "stream",
     "text": [
      "/home/wagner/anaconda3/lib/python3.7/site-packages/sklearn/utils/validation.py:595: DataConversionWarning: Data with input dtype object was converted to float64 by StandardScaler.\n",
      "  warnings.warn(msg, DataConversionWarning)\n",
      "/home/wagner/anaconda3/lib/python3.7/site-packages/sklearn/utils/validation.py:595: DataConversionWarning: Data with input dtype object was converted to float64 by StandardScaler.\n",
      "  warnings.warn(msg, DataConversionWarning)\n"
     ]
    }
   ],
   "source": [
    "scaler = StandardScaler()\n",
    "\n",
    "previsores = scaler.fit_transform(previsores)"
   ]
  },
  {
   "cell_type": "code",
   "execution_count": 54,
   "metadata": {},
   "outputs": [
    {
     "data": {
      "text/plain": [
       "array([[-0.93005903,  1.13355918,  0.90317117, -1.51680658, -0.70207394,\n",
       "        -0.7701076 ],\n",
       "       [-0.93005903,  1.13355918,  0.90317117, -1.51680658, -0.35453826,\n",
       "        -0.7701076 ],\n",
       "       [-0.93005903,  1.13355918,  0.90317117, -1.51680658,  1.38314012,\n",
       "        -0.7701076 ],\n",
       "       ...,\n",
       "       [ 0.71114156,  1.13355918, -1.10720984, -1.51680658, -0.70207394,\n",
       "        -0.7701076 ],\n",
       "       [ 0.71114156,  1.13355918, -1.10720984, -1.51680658, -0.70207394,\n",
       "         1.35517791],\n",
       "       [ 0.71114156,  1.13355918,  0.90317117, -1.51680658, -0.70207394,\n",
       "         1.35517791]])"
      ]
     },
     "execution_count": 54,
     "metadata": {},
     "output_type": "execute_result"
    }
   ],
   "source": [
    "previsores"
   ]
  },
  {
   "cell_type": "markdown",
   "metadata": {},
   "source": [
    "Nesta fase, a base de dados será dividida em duas partes: uma para treinamento dos algorítmos e outra para testá-los. A separação consistirá em 80% para treinamento e 20% para teste."
   ]
  },
  {
   "cell_type": "code",
   "execution_count": 55,
   "metadata": {},
   "outputs": [],
   "source": [
    "previsores_treinamento, previsores_teste, classe_treinamento, classe_teste = train_test_split(\n",
    "    previsores, classe, test_size = 0.20, random_state = 0)"
   ]
  },
  {
   "cell_type": "markdown",
   "metadata": {},
   "source": [
    "Os algorítmos a serem testados são: NaiveBayes, árvore de decisão, random forest, K-Nearest Neighbors (KNN), Multi-Layer Perceptron (MLP) e Support Vector Machine (SVM)."
   ]
  },
  {
   "cell_type": "code",
   "execution_count": 56,
   "metadata": {},
   "outputs": [
    {
     "data": {
      "text/plain": [
       "0.6260364842454395"
      ]
     },
     "execution_count": 56,
     "metadata": {},
     "output_type": "execute_result"
    }
   ],
   "source": [
    "# Naive Bayes\n",
    "classificador_nb = GaussianNB()\n",
    "classificador_nb.fit(previsores_treinamento, classe_treinamento)\n",
    "previsoes_nb = classificador_nb.predict(previsores_teste)\n",
    "\n",
    "#acurácia do modelo\n",
    "precisao_nb = accuracy_score(classe_teste, previsoes_nb)\n",
    "\n",
    "precisao_nb"
   ]
  },
  {
   "cell_type": "code",
   "execution_count": 57,
   "metadata": {},
   "outputs": [
    {
     "data": {
      "text/plain": [
       "0.6268656716417911"
      ]
     },
     "execution_count": 57,
     "metadata": {},
     "output_type": "execute_result"
    }
   ],
   "source": [
    "# Árvore de decisão\n",
    "classificador_dt = DecisionTreeClassifier(criterion = 'entropy', random_state = 0)\n",
    "classificador_dt.fit(previsores_treinamento, classe_treinamento)\n",
    "previsoes_dt = classificador_dt.predict(previsores_teste)\n",
    "\n",
    "# Acurácia do modelo\n",
    "precisao_dt = accuracy_score(classe_teste, previsoes_dt)\n",
    "\n",
    "precisao_dt"
   ]
  },
  {
   "cell_type": "code",
   "execution_count": 58,
   "metadata": {},
   "outputs": [
    {
     "data": {
      "text/plain": [
       "0.6272802653399668"
      ]
     },
     "execution_count": 58,
     "metadata": {},
     "output_type": "execute_result"
    }
   ],
   "source": [
    "#Random Forest ou Floresta randômica\n",
    "classificador_rf = RandomForestClassifier(n_estimators = 40, criterion = 'entropy', \n",
    "                                          random_state = 0)\n",
    "classificador_rf.fit(previsores_treinamento, classe_treinamento)\n",
    "previsoes_rf = classificador_rf.predict(previsores_teste)\n",
    "\n",
    "#acurácia do modelo\n",
    "precisao_rf = accuracy_score(classe_teste, previsoes_rf)\n",
    "\n",
    "precisao_rf"
   ]
  },
  {
   "cell_type": "code",
   "execution_count": 59,
   "metadata": {},
   "outputs": [
    {
     "data": {
      "text/plain": [
       "0.5978441127694859"
      ]
     },
     "execution_count": 59,
     "metadata": {},
     "output_type": "execute_result"
    }
   ],
   "source": [
    "#KNN\n",
    "classificador_knn = KNeighborsClassifier(n_neighbors = 3, metric = 'minkowski', p = 2)\n",
    "classificador_knn.fit(previsores_treinamento, classe_treinamento)\n",
    "previsoes_knn = classificador_knn.predict(previsores_teste)\n",
    "\n",
    "#Acurácia do modelo\n",
    "precisao_knn = accuracy_score(classe_teste, previsoes_knn)\n",
    "\n",
    "precisao_knn"
   ]
  },
  {
   "cell_type": "code",
   "execution_count": 60,
   "metadata": {},
   "outputs": [
    {
     "name": "stdout",
     "output_type": "stream",
     "text": [
      "Iteration 1, loss = 0.67094151\n",
      "Iteration 2, loss = 0.64659872\n",
      "Iteration 3, loss = 0.64412991\n",
      "Iteration 4, loss = 0.64307650\n",
      "Iteration 5, loss = 0.64204379\n",
      "Iteration 6, loss = 0.64220690\n",
      "Iteration 7, loss = 0.64093482\n",
      "Iteration 8, loss = 0.64062056\n",
      "Iteration 9, loss = 0.64032211\n",
      "Iteration 10, loss = 0.64001463\n",
      "Iteration 11, loss = 0.64007443\n",
      "Iteration 12, loss = 0.63957420\n",
      "Iteration 13, loss = 0.63945273\n",
      "Iteration 14, loss = 0.63956042\n",
      "Iteration 15, loss = 0.63933762\n",
      "Iteration 16, loss = 0.63878201\n",
      "Iteration 17, loss = 0.63884911\n",
      "Iteration 18, loss = 0.63897434\n",
      "Iteration 19, loss = 0.63836421\n",
      "Iteration 20, loss = 0.63901816\n",
      "Iteration 21, loss = 0.63868601\n",
      "Iteration 22, loss = 0.63823816\n",
      "Iteration 23, loss = 0.63825131\n",
      "Iteration 24, loss = 0.63812922\n",
      "Iteration 25, loss = 0.63780084\n",
      "Iteration 26, loss = 0.63796339\n",
      "Iteration 27, loss = 0.63808038\n",
      "Iteration 28, loss = 0.63753718\n",
      "Iteration 29, loss = 0.63798834\n",
      "Iteration 30, loss = 0.63750338\n",
      "Iteration 31, loss = 0.63748632\n",
      "Iteration 32, loss = 0.63706473\n",
      "Iteration 33, loss = 0.63714269\n",
      "Iteration 34, loss = 0.63702063\n",
      "Iteration 35, loss = 0.63708509\n",
      "Iteration 36, loss = 0.63719502\n",
      "Iteration 37, loss = 0.63678015\n",
      "Iteration 38, loss = 0.63694299\n",
      "Iteration 39, loss = 0.63662448\n",
      "Iteration 40, loss = 0.63648255\n",
      "Iteration 41, loss = 0.63688126\n",
      "Iteration 42, loss = 0.63652041\n",
      "Iteration 43, loss = 0.63660216\n",
      "Iteration 44, loss = 0.63628293\n",
      "Iteration 45, loss = 0.63616017\n",
      "Iteration 46, loss = 0.63661610\n",
      "Iteration 47, loss = 0.63647923\n",
      "Iteration 48, loss = 0.63633826\n",
      "Iteration 49, loss = 0.63616686\n",
      "Iteration 50, loss = 0.63632372\n",
      "Iteration 51, loss = 0.63582828\n",
      "Iteration 52, loss = 0.63568941\n",
      "Iteration 53, loss = 0.63580211\n",
      "Iteration 54, loss = 0.63570915\n",
      "Iteration 55, loss = 0.63569406\n",
      "Iteration 56, loss = 0.63557920\n",
      "Iteration 57, loss = 0.63564594\n",
      "Iteration 58, loss = 0.63570170\n",
      "Iteration 59, loss = 0.63552412\n",
      "Iteration 60, loss = 0.63527383\n",
      "Iteration 61, loss = 0.63529581\n",
      "Iteration 62, loss = 0.63513967\n",
      "Iteration 63, loss = 0.63497922\n",
      "Iteration 64, loss = 0.63522687\n",
      "Iteration 65, loss = 0.63503718\n",
      "Iteration 66, loss = 0.63508818\n",
      "Iteration 67, loss = 0.63523572\n",
      "Iteration 68, loss = 0.63515471\n",
      "Iteration 69, loss = 0.63503368\n",
      "Iteration 70, loss = 0.63530250\n",
      "Iteration 71, loss = 0.63488480\n",
      "Iteration 72, loss = 0.63483127\n",
      "Iteration 73, loss = 0.63452636\n",
      "Iteration 74, loss = 0.63459261\n",
      "Iteration 75, loss = 0.63454963\n",
      "Iteration 76, loss = 0.63465040\n",
      "Iteration 77, loss = 0.63469353\n",
      "Iteration 78, loss = 0.63439462\n",
      "Iteration 79, loss = 0.63426224\n",
      "Iteration 80, loss = 0.63442300\n",
      "Iteration 81, loss = 0.63441321\n",
      "Iteration 82, loss = 0.63399216\n",
      "Iteration 83, loss = 0.63387884\n",
      "Iteration 84, loss = 0.63398215\n",
      "Iteration 85, loss = 0.63459205\n",
      "Iteration 86, loss = 0.63424427\n",
      "Iteration 87, loss = 0.63357164\n",
      "Iteration 88, loss = 0.63458395\n",
      "Iteration 89, loss = 0.63440387\n",
      "Iteration 90, loss = 0.63473032\n",
      "Iteration 91, loss = 0.63354811\n",
      "Iteration 92, loss = 0.63372661\n",
      "Iteration 93, loss = 0.63392493\n",
      "Iteration 94, loss = 0.63352141\n",
      "Iteration 95, loss = 0.63421147\n",
      "Iteration 96, loss = 0.63355790\n",
      "Iteration 97, loss = 0.63367732\n",
      "Iteration 98, loss = 0.63355760\n",
      "Iteration 99, loss = 0.63404155\n",
      "Iteration 100, loss = 0.63355479\n",
      "Iteration 101, loss = 0.63355141\n",
      "Iteration 102, loss = 0.63344737\n",
      "Iteration 103, loss = 0.63339717\n",
      "Iteration 104, loss = 0.63344260\n",
      "Iteration 105, loss = 0.63316576\n",
      "Iteration 106, loss = 0.63348310\n",
      "Iteration 107, loss = 0.63306220\n",
      "Iteration 108, loss = 0.63289067\n",
      "Iteration 109, loss = 0.63288076\n",
      "Iteration 110, loss = 0.63291611\n",
      "Iteration 111, loss = 0.63292756\n",
      "Iteration 112, loss = 0.63302238\n",
      "Iteration 113, loss = 0.63282649\n",
      "Iteration 114, loss = 0.63285245\n",
      "Iteration 115, loss = 0.63278794\n",
      "Iteration 116, loss = 0.63304394\n",
      "Iteration 117, loss = 0.63308768\n",
      "Iteration 118, loss = 0.63335135\n",
      "Iteration 119, loss = 0.63319265\n",
      "Iteration 120, loss = 0.63250364\n",
      "Iteration 121, loss = 0.63249165\n",
      "Iteration 122, loss = 0.63292093\n",
      "Iteration 123, loss = 0.63253894\n",
      "Iteration 124, loss = 0.63262825\n",
      "Iteration 125, loss = 0.63275308\n",
      "Iteration 126, loss = 0.63282244\n",
      "Iteration 127, loss = 0.63225625\n",
      "Iteration 128, loss = 0.63255386\n",
      "Iteration 129, loss = 0.63257562\n",
      "Iteration 130, loss = 0.63279524\n",
      "Iteration 131, loss = 0.63236768\n",
      "Iteration 132, loss = 0.63240168\n",
      "Iteration 133, loss = 0.63232083\n",
      "Iteration 134, loss = 0.63231791\n",
      "Iteration 135, loss = 0.63249076\n",
      "Iteration 136, loss = 0.63256273\n",
      "Iteration 137, loss = 0.63220522\n",
      "Iteration 138, loss = 0.63212407\n",
      "Iteration 139, loss = 0.63201944\n",
      "Iteration 140, loss = 0.63207492\n",
      "Iteration 141, loss = 0.63246235\n",
      "Iteration 142, loss = 0.63192787\n",
      "Iteration 143, loss = 0.63209431\n",
      "Iteration 144, loss = 0.63212198\n",
      "Iteration 145, loss = 0.63212987\n",
      "Iteration 146, loss = 0.63198007\n",
      "Iteration 147, loss = 0.63187144\n",
      "Iteration 148, loss = 0.63194518\n",
      "Iteration 149, loss = 0.63253273\n",
      "Iteration 150, loss = 0.63204599\n",
      "Iteration 151, loss = 0.63179222\n",
      "Iteration 152, loss = 0.63179957\n",
      "Iteration 153, loss = 0.63252928\n",
      "Iteration 154, loss = 0.63165103\n",
      "Iteration 155, loss = 0.63196302\n",
      "Iteration 156, loss = 0.63191122\n",
      "Iteration 157, loss = 0.63198970\n",
      "Iteration 158, loss = 0.63172582\n",
      "Iteration 159, loss = 0.63176748\n",
      "Iteration 160, loss = 0.63140077\n",
      "Iteration 161, loss = 0.63126581\n",
      "Iteration 162, loss = 0.63140293\n",
      "Iteration 163, loss = 0.63120025\n",
      "Iteration 164, loss = 0.63148734\n",
      "Iteration 165, loss = 0.63169496\n",
      "Iteration 166, loss = 0.63166717\n",
      "Iteration 167, loss = 0.63163214\n",
      "Iteration 168, loss = 0.63128845\n",
      "Iteration 169, loss = 0.63140197\n",
      "Iteration 170, loss = 0.63155591\n",
      "Iteration 171, loss = 0.63143347\n",
      "Iteration 172, loss = 0.63109230\n",
      "Iteration 173, loss = 0.63184881\n",
      "Iteration 174, loss = 0.63113459\n",
      "Iteration 175, loss = 0.63108595\n",
      "Iteration 176, loss = 0.63153934\n",
      "Iteration 177, loss = 0.63138386\n",
      "Iteration 178, loss = 0.63123846\n",
      "Iteration 179, loss = 0.63086257\n",
      "Iteration 180, loss = 0.63091475\n",
      "Iteration 181, loss = 0.63112164\n",
      "Iteration 182, loss = 0.63135643\n",
      "Iteration 183, loss = 0.63101384\n",
      "Iteration 184, loss = 0.63101001\n",
      "Iteration 185, loss = 0.63083573\n",
      "Iteration 186, loss = 0.63068835\n",
      "Iteration 187, loss = 0.63131766\n",
      "Iteration 188, loss = 0.63100922\n",
      "Iteration 189, loss = 0.63053171\n",
      "Iteration 190, loss = 0.63062947\n",
      "Iteration 191, loss = 0.63098407\n",
      "Iteration 192, loss = 0.63137835\n",
      "Iteration 193, loss = 0.63054514\n",
      "Iteration 194, loss = 0.63075193\n",
      "Iteration 195, loss = 0.63092741\n",
      "Iteration 196, loss = 0.63064364\n",
      "Iteration 197, loss = 0.63054563\n",
      "Iteration 198, loss = 0.63092861\n",
      "Iteration 199, loss = 0.63132126\n",
      "Iteration 200, loss = 0.63102311\n",
      "Training loss did not improve more than tol=0.000010 for 10 consecutive epochs. Stopping.\n"
     ]
    },
    {
     "data": {
      "text/plain": [
       "0.6351575456053068"
      ]
     },
     "execution_count": 60,
     "metadata": {},
     "output_type": "execute_result"
    }
   ],
   "source": [
    "#MLP\n",
    "classificador_rn = MLPClassifier(verbose = True, max_iter = 500, tol = 0.00001)\n",
    "classificador_rn.fit(previsores_treinamento, classe_treinamento)\n",
    "previsoes_rn = classificador_rn.predict(previsores_teste)\n",
    "\n",
    "#Acurácia do modelo\n",
    "precisao_rn = accuracy_score(classe_teste, previsoes_rn)\n",
    "\n",
    "precisao_rn"
   ]
  },
  {
   "cell_type": "code",
   "execution_count": 61,
   "metadata": {},
   "outputs": [
    {
     "data": {
      "text/plain": [
       "0.6148424543946932"
      ]
     },
     "execution_count": 61,
     "metadata": {},
     "output_type": "execute_result"
    }
   ],
   "source": [
    "#SVM\n",
    "classificador_svm = SVC(kernel = 'linear', random_state = 1)\n",
    "classificador_svm.fit(previsores_treinamento, classe_treinamento)\n",
    "previsoes_svm = classificador_svm.predict(previsores_teste)\n",
    "\n",
    "#Acurácia do modelo\n",
    "precisao_svm = accuracy_score(classe_teste, previsoes_svm)\n",
    "\n",
    "precisao_svm"
   ]
  },
  {
   "cell_type": "code",
   "execution_count": 62,
   "metadata": {},
   "outputs": [
    {
     "name": "stdout",
     "output_type": "stream",
     "text": [
      "Naive Bayes:  0.6260364842454395\n",
      "Árvore de decisão:  0.6268656716417911\n",
      "Random Forest:  0.6272802653399668\n",
      "KNN:  0.5978441127694859\n",
      "MLP:  0.6351575456053068\n",
      "SVM:  0.6148424543946932\n"
     ]
    }
   ],
   "source": [
    "# Precisão dos modelos\n",
    "print('Naive Bayes: ', precisao_nb)\n",
    "print('Árvore de decisão: ', precisao_dt)\n",
    "print('Random Forest: ', precisao_rf)\n",
    "print('KNN: ', precisao_knn)\n",
    "print('MLP: ', precisao_rn)\n",
    "print('SVM: ', precisao_svm)"
   ]
  },
  {
   "cell_type": "markdown",
   "metadata": {},
   "source": [
    "Comparando a precisão dos modelos, observa-se que eles não se adaptaram bem aos algorítmos. Todos apresentaram uma taxa de acerto em torno de 62%, com exceção do KNN. Antes desses resultados muitos testes modificando as configurações da tabela e do modelo foram feitos, por exemplo, utilizando todas as colunas da base de dados, variáveis do tipo Dummy e variações no escalonamento. Mesmo com todos os esforços, estes foram os melhores valores obtidos. Dentre os 6 modelos, em geral, o KNN foi o que se adaptou menos aos dados, desta forma, ele será descartado. Para aumentar a confiabilidade dos modelos, os resultados serão utilizados em conjunto. Caso 3 ou mais modelos apresentem o mesmo resultado, então ele será a resposta final. Para isso, será feito um pequeno script logo abaixo. "
   ]
  },
  {
   "cell_type": "code",
   "execution_count": 63,
   "metadata": {},
   "outputs": [
    {
     "name": "stderr",
     "output_type": "stream",
     "text": [
      "/home/wagner/anaconda3/lib/python3.7/site-packages/sklearn/utils/validation.py:595: DataConversionWarning: Data with input dtype int64 was converted to float64 by StandardScaler.\n",
      "  warnings.warn(msg, DataConversionWarning)\n",
      "/home/wagner/anaconda3/lib/python3.7/site-packages/sklearn/utils/validation.py:595: DataConversionWarning: Data with input dtype int64 was converted to float64 by StandardScaler.\n",
      "  warnings.warn(msg, DataConversionWarning)\n"
     ]
    }
   ],
   "source": [
    "# Exemplo da aluna:\n",
    "# 4 - Goiás\n",
    "# 1 - manhã\n",
    "# 0 - Feminino\n",
    "# 4 - Solteira\n",
    "# 8 - Superior\n",
    "# 0 - mês 01\n",
    "\n",
    "novo =[[4, 1, 0, 4, 8, 0]]\n",
    "novo = np.asarray(novo)\n",
    "novo = novo.reshape(-1, 1)\n",
    "novo = scaler.fit_transform(novo)\n",
    "novo = novo.reshape(-1, 6)"
   ]
  },
  {
   "cell_type": "code",
   "execution_count": 64,
   "metadata": {},
   "outputs": [
    {
     "name": "stdout",
     "output_type": "stream",
     "text": [
      "Aprovado\n"
     ]
    }
   ],
   "source": [
    "a =classificador_nb.predict(novo)\n",
    "b= classificador_dt.predict(novo)\n",
    "c = classificador_rf.predict(novo)\n",
    "d = classificador_svm.predict(novo)\n",
    "e = classificador_rn.predict(novo)\n",
    "\n",
    "aprovado = 0\n",
    "reprovado = 0\n",
    "\n",
    "if a == 0:\n",
    "    aprovado += 1\n",
    "else:\n",
    "    reprovado += 1\n",
    "    \n",
    "if b == 0:\n",
    "    aprovado += 1\n",
    "else:\n",
    "    reprovado += 1\n",
    "    \n",
    "if c == 0:\n",
    "    aprovado += 1\n",
    "else:\n",
    "    reprovado += 1\n",
    "\n",
    "if d == 0:\n",
    "    aprovado += 1\n",
    "else:\n",
    "    reprovado += 1\n",
    "    \n",
    "if e == 0:\n",
    "    aprovado += 1\n",
    "else:\n",
    "    reprovado += 1\n",
    "    \n",
    "if aprovado > reprovado:\n",
    "    print(\"Aprovado\")\n",
    "else:\n",
    "    print('Reprovado')"
   ]
  },
  {
   "cell_type": "markdown",
   "metadata": {},
   "source": [
    "O exemplo acima mostrou que o algoritmo previu que a aluna com essas características passou no teste e foi aprovada. Agora serão mostradas as características de um aluno reprovado."
   ]
  },
  {
   "cell_type": "code",
   "execution_count": 65,
   "metadata": {},
   "outputs": [
    {
     "name": "stderr",
     "output_type": "stream",
     "text": [
      "/home/wagner/anaconda3/lib/python3.7/site-packages/sklearn/utils/validation.py:595: DataConversionWarning: Data with input dtype int64 was converted to float64 by StandardScaler.\n",
      "  warnings.warn(msg, DataConversionWarning)\n",
      "/home/wagner/anaconda3/lib/python3.7/site-packages/sklearn/utils/validation.py:595: DataConversionWarning: Data with input dtype int64 was converted to float64 by StandardScaler.\n",
      "  warnings.warn(msg, DataConversionWarning)\n"
     ]
    }
   ],
   "source": [
    "# Exemplo da aluno:\n",
    "# 17 - Rio Grande do Norte\n",
    "# 0 - Noite\n",
    "# 1 - Masculino\n",
    "# 3 - Separado\n",
    "# 1 - Ensino fundamental\n",
    "# 2 - mês 08\n",
    "\n",
    "novo_aluno =[[17, 0, 1, 3, 1, 2]]\n",
    "novo_aluno = np.asarray(novo_aluno)\n",
    "novo_aluno = novo_aluno.reshape(-1, 1)\n",
    "novo_aluno = scaler.fit_transform(novo_aluno)\n",
    "novo_aluno = novo_aluno.reshape(-1, 6)"
   ]
  },
  {
   "cell_type": "code",
   "execution_count": 66,
   "metadata": {},
   "outputs": [
    {
     "name": "stdout",
     "output_type": "stream",
     "text": [
      "Reprovado\n"
     ]
    }
   ],
   "source": [
    "a =classificador_nb.predict(novo_aluno)\n",
    "b= classificador_dt.predict(novo_aluno)\n",
    "c = classificador_rf.predict(novo_aluno)\n",
    "d = classificador_svm.predict(novo_aluno)\n",
    "e = classificador_rn.predict(novo_aluno)\n",
    "\n",
    "aprovado = 0\n",
    "reprovado = 0\n",
    "\n",
    "if a == 0:\n",
    "    aprovado += 1\n",
    "else:\n",
    "    reprovado += 1\n",
    "    \n",
    "if b == 0:\n",
    "    aprovado += 1\n",
    "else:\n",
    "    reprovado += 1\n",
    "    \n",
    "if c == 0:\n",
    "    aprovado += 1\n",
    "else:\n",
    "    reprovado += 1\n",
    "\n",
    "if d == 0:\n",
    "    aprovado += 1\n",
    "else:\n",
    "    reprovado += 1\n",
    "    \n",
    "if e == 0:\n",
    "    aprovado += 1\n",
    "else:\n",
    "    reprovado += 1\n",
    "    \n",
    "if aprovado > reprovado:\n",
    "    print(\"Aprovado\")\n",
    "else:\n",
    "    print('Reprovado')"
   ]
  },
  {
   "cell_type": "markdown",
   "metadata": {},
   "source": [
    "Trabalhando separadamente os algorítmos, eles conseguem uma eficiência de aproximadamente 62%, utilizando-os em conjunto com o índice de acerto, aumenta-se um pouco mais, podendo chegar próximo a 70%."
   ]
  },
  {
   "cell_type": "markdown",
   "metadata": {},
   "source": [
    "Com relação aos alunos que mais necessitam de ajuda, pode-se considerar que eles são os reprovados, desta forma, será feito um novo filtro para verificar as características desses alunos."
   ]
  },
  {
   "cell_type": "code",
   "execution_count": 67,
   "metadata": {},
   "outputs": [
    {
     "data": {
      "text/html": [
       "<div>\n",
       "<style scoped>\n",
       "    .dataframe tbody tr th:only-of-type {\n",
       "        vertical-align: middle;\n",
       "    }\n",
       "\n",
       "    .dataframe tbody tr th {\n",
       "        vertical-align: top;\n",
       "    }\n",
       "\n",
       "    .dataframe thead th {\n",
       "        text-align: right;\n",
       "    }\n",
       "</style>\n",
       "<table border=\"1\" class=\"dataframe\">\n",
       "  <thead>\n",
       "    <tr style=\"text-align: right;\">\n",
       "      <th></th>\n",
       "      <th>Unnamed: 0</th>\n",
       "      <th>prova_realizada_em</th>\n",
       "      <th>dia_da_prova_realizada</th>\n",
       "      <th>nota</th>\n",
       "      <th>nota_redacao</th>\n",
       "      <th>horario_da_prova</th>\n",
       "      <th>sexo</th>\n",
       "      <th>estado_civil</th>\n",
       "      <th>escolaridade</th>\n",
       "      <th>cidade_de_nascimento</th>\n",
       "      <th>bairro</th>\n",
       "    </tr>\n",
       "  </thead>\n",
       "  <tbody>\n",
       "    <tr>\n",
       "      <th>39</th>\n",
       "      <td>39</td>\n",
       "      <td>GO - Goiás</td>\n",
       "      <td>17/01/2017</td>\n",
       "      <td>4.95</td>\n",
       "      <td>1.2</td>\n",
       "      <td>manhã</td>\n",
       "      <td>Masculino</td>\n",
       "      <td>Casado(a)</td>\n",
       "      <td>Ensino médio</td>\n",
       "      <td>BRASILIA</td>\n",
       "      <td>Valparaiso II</td>\n",
       "    </tr>\n",
       "    <tr>\n",
       "      <th>40</th>\n",
       "      <td>40</td>\n",
       "      <td>GO - Goiás</td>\n",
       "      <td>05/01/2017</td>\n",
       "      <td>4.85</td>\n",
       "      <td>1.1</td>\n",
       "      <td>manhã</td>\n",
       "      <td>Feminino</td>\n",
       "      <td>Solteiro(a)</td>\n",
       "      <td>Superior</td>\n",
       "      <td>Alexânia</td>\n",
       "      <td>Centro</td>\n",
       "    </tr>\n",
       "    <tr>\n",
       "      <th>138</th>\n",
       "      <td>138</td>\n",
       "      <td>MG - Minas Gerais</td>\n",
       "      <td>15/01/2017</td>\n",
       "      <td>4.95</td>\n",
       "      <td>1.2</td>\n",
       "      <td>Noite</td>\n",
       "      <td>Feminino</td>\n",
       "      <td>Solteiro(a)</td>\n",
       "      <td>Superior</td>\n",
       "      <td>FORMIGA</td>\n",
       "      <td>SANTO ANTÔNIO</td>\n",
       "    </tr>\n",
       "    <tr>\n",
       "      <th>139</th>\n",
       "      <td>139</td>\n",
       "      <td>MG - Minas Gerais</td>\n",
       "      <td>16/01/2017</td>\n",
       "      <td>4.95</td>\n",
       "      <td>1.2</td>\n",
       "      <td>manhã</td>\n",
       "      <td>Feminino</td>\n",
       "      <td>Solteiro(a)</td>\n",
       "      <td>Superior</td>\n",
       "      <td>Belo Horizonte</td>\n",
       "      <td>Estâncias Imperiais</td>\n",
       "    </tr>\n",
       "    <tr>\n",
       "      <th>140</th>\n",
       "      <td>140</td>\n",
       "      <td>MG - Minas Gerais</td>\n",
       "      <td>10/01/2017</td>\n",
       "      <td>4.95</td>\n",
       "      <td>1.2</td>\n",
       "      <td>manhã</td>\n",
       "      <td>Feminino</td>\n",
       "      <td>Divorciado(a)</td>\n",
       "      <td>Superior incompleto</td>\n",
       "      <td>são paulo</td>\n",
       "      <td>Jardim Flórida</td>\n",
       "    </tr>\n",
       "  </tbody>\n",
       "</table>\n",
       "</div>"
      ],
      "text/plain": [
       "     Unnamed: 0 prova_realizada_em dia_da_prova_realizada  nota  nota_redacao  \\\n",
       "39           39         GO - Goiás             17/01/2017  4.95           1.2   \n",
       "40           40         GO - Goiás             05/01/2017  4.85           1.1   \n",
       "138         138  MG - Minas Gerais             15/01/2017  4.95           1.2   \n",
       "139         139  MG - Minas Gerais             16/01/2017  4.95           1.2   \n",
       "140         140  MG - Minas Gerais             10/01/2017  4.95           1.2   \n",
       "\n",
       "    horario_da_prova       sexo   estado_civil         escolaridade  \\\n",
       "39             manhã  Masculino      Casado(a)         Ensino médio   \n",
       "40             manhã   Feminino    Solteiro(a)             Superior   \n",
       "138            Noite   Feminino    Solteiro(a)             Superior   \n",
       "139            manhã   Feminino    Solteiro(a)             Superior   \n",
       "140            manhã   Feminino  Divorciado(a)  Superior incompleto   \n",
       "\n",
       "    cidade_de_nascimento               bairro  \n",
       "39              BRASILIA        Valparaiso II  \n",
       "40              Alexânia               Centro  \n",
       "138              FORMIGA        SANTO ANTÔNIO  \n",
       "139       Belo Horizonte  Estâncias Imperiais  \n",
       "140            são paulo       Jardim Flórida  "
      ]
     },
     "execution_count": 67,
     "metadata": {},
     "output_type": "execute_result"
    }
   ],
   "source": [
    "reprovados = base.query(\"nota < 5 or nota_redacao == 0\")\n",
    "reprovados.head()"
   ]
  },
  {
   "cell_type": "code",
   "execution_count": 68,
   "metadata": {},
   "outputs": [
    {
     "data": {
      "text/plain": [
       "AM - Amazonas               0.380952\n",
       "BA - Bahia                  0.537500\n",
       "CE - Ceará                  0.474820\n",
       "ES - Espírito Santo         0.611111\n",
       "GO - Goiás                  0.567142\n",
       "MA - Maranhão               0.538781\n",
       "MG - Minas Gerais           0.520045\n",
       "MS - Mato Grosso do Sul     0.502987\n",
       "MT - Mato Grosso            0.503012\n",
       "PA - Pará                   0.600259\n",
       "PB - Paraíba                0.428571\n",
       "PE - Pernambuco             0.598086\n",
       "PI - Piauí                  0.574468\n",
       "RJ - Rio de Janeiro         0.382239\n",
       "RN - Rio Grande do Norte    0.639130\n",
       "RO - Rondônia               0.538631\n",
       "RR - Roraima                0.583653\n",
       "RS - Rio Grande do Sul      0.318735\n",
       "SC - Santa Catarina         0.412844\n",
       "SE - Sergipe                0.698347\n",
       "TO - Tocantins              0.393846\n",
       "Name: prova_realizada_em, dtype: float64"
      ]
     },
     "execution_count": 68,
     "metadata": {},
     "output_type": "execute_result"
    }
   ],
   "source": [
    "reprovados.prova_realizada_em.value_counts() / base.prova_realizada_em.value_counts()"
   ]
  },
  {
   "cell_type": "code",
   "execution_count": 69,
   "metadata": {},
   "outputs": [
    {
     "data": {
      "text/plain": [
       "Doutorado              0.272727\n",
       "Ensino fundamental     0.729730\n",
       "Ensino médio           0.585803\n",
       "Especialização         0.315642\n",
       "MBA                    0.160000\n",
       "Mestrado               0.250000\n",
       "Não informado          0.428571\n",
       "Nível técnico          0.505938\n",
       "Superior               0.382158\n",
       "Superior incompleto    0.426770\n",
       "Name: escolaridade, dtype: float64"
      ]
     },
     "execution_count": 69,
     "metadata": {},
     "output_type": "execute_result"
    }
   ],
   "source": [
    "reprovados.escolaridade.value_counts() / base.escolaridade.value_counts()"
   ]
  },
  {
   "cell_type": "code",
   "execution_count": 70,
   "metadata": {},
   "outputs": [
    {
     "data": {
      "text/plain": [
       "Solteiro(a)      0.538538\n",
       "Casado(a)        0.481234\n",
       "Divorciado(a)    0.431507\n",
       "Separado(a)      0.542636\n",
       "Viúvo(a)         0.400000\n",
       "0                0.666667\n",
       "Name: estado_civil, dtype: float64"
      ]
     },
     "execution_count": 70,
     "metadata": {},
     "output_type": "execute_result"
    }
   ],
   "source": [
    "reprovados.estado_civil.value_counts() / base.estado_civil.value_counts()"
   ]
  },
  {
   "cell_type": "code",
   "execution_count": 71,
   "metadata": {},
   "outputs": [
    {
     "data": {
      "text/html": [
       "<div>\n",
       "<style scoped>\n",
       "    .dataframe tbody tr th:only-of-type {\n",
       "        vertical-align: middle;\n",
       "    }\n",
       "\n",
       "    .dataframe tbody tr th {\n",
       "        vertical-align: top;\n",
       "    }\n",
       "\n",
       "    .dataframe thead th {\n",
       "        text-align: right;\n",
       "    }\n",
       "</style>\n",
       "<table border=\"1\" class=\"dataframe\">\n",
       "  <thead>\n",
       "    <tr style=\"text-align: right;\">\n",
       "      <th></th>\n",
       "      <th>Unnamed: 0</th>\n",
       "      <th>prova_realizada_em</th>\n",
       "      <th>dia_da_prova_realizada</th>\n",
       "      <th>nota</th>\n",
       "      <th>nota_redacao</th>\n",
       "      <th>horario_da_prova</th>\n",
       "      <th>sexo</th>\n",
       "      <th>estado_civil</th>\n",
       "      <th>escolaridade</th>\n",
       "      <th>cidade_de_nascimento</th>\n",
       "      <th>bairro</th>\n",
       "    </tr>\n",
       "  </thead>\n",
       "  <tbody>\n",
       "    <tr>\n",
       "      <th>3060</th>\n",
       "      <td>3060</td>\n",
       "      <td>PA - Pará</td>\n",
       "      <td>13/01/2017</td>\n",
       "      <td>2.75</td>\n",
       "      <td>0.0</td>\n",
       "      <td>Noite</td>\n",
       "      <td>Feminino</td>\n",
       "      <td>0</td>\n",
       "      <td>Ensino médio</td>\n",
       "      <td>Santa Izabel do Pará</td>\n",
       "      <td>Centro</td>\n",
       "    </tr>\n",
       "    <tr>\n",
       "      <th>4258</th>\n",
       "      <td>4258</td>\n",
       "      <td>RN - Rio Grande do Norte</td>\n",
       "      <td>16/01/2017</td>\n",
       "      <td>5.20</td>\n",
       "      <td>1.7</td>\n",
       "      <td>manhã</td>\n",
       "      <td>Masculino</td>\n",
       "      <td>0</td>\n",
       "      <td>Superior incompleto</td>\n",
       "      <td>Natal</td>\n",
       "      <td>Nova Parnamirim</td>\n",
       "    </tr>\n",
       "    <tr>\n",
       "      <th>6734</th>\n",
       "      <td>6734</td>\n",
       "      <td>GO - Goiás</td>\n",
       "      <td>13/01/2017</td>\n",
       "      <td>2.50</td>\n",
       "      <td>0.0</td>\n",
       "      <td>manhã</td>\n",
       "      <td>Masculino</td>\n",
       "      <td>0</td>\n",
       "      <td>Ensino médio</td>\n",
       "      <td>goiania</td>\n",
       "      <td>Setor dos Funcionários</td>\n",
       "    </tr>\n",
       "  </tbody>\n",
       "</table>\n",
       "</div>"
      ],
      "text/plain": [
       "      Unnamed: 0        prova_realizada_em dia_da_prova_realizada  nota  \\\n",
       "3060        3060                 PA - Pará             13/01/2017  2.75   \n",
       "4258        4258  RN - Rio Grande do Norte             16/01/2017  5.20   \n",
       "6734        6734                GO - Goiás             13/01/2017  2.50   \n",
       "\n",
       "      nota_redacao horario_da_prova       sexo estado_civil  \\\n",
       "3060           0.0            Noite   Feminino            0   \n",
       "4258           1.7            manhã  Masculino            0   \n",
       "6734           0.0            manhã  Masculino            0   \n",
       "\n",
       "             escolaridade  cidade_de_nascimento                  bairro  \n",
       "3060         Ensino médio  Santa Izabel do Pará                  Centro  \n",
       "4258  Superior incompleto                 Natal         Nova Parnamirim  \n",
       "6734         Ensino médio              goiania   Setor dos Funcionários  "
      ]
     },
     "execution_count": 71,
     "metadata": {},
     "output_type": "execute_result"
    }
   ],
   "source": [
    "base.query(\"estado_civil == '0'\")"
   ]
  },
  {
   "cell_type": "markdown",
   "metadata": {},
   "source": [
    "Dos alunos reprovados, proporcionalmente o estado do Sergipe foi o pior entre todos os estados, chegando a reprovar quase 70% dos alunos. Um pouco depois aparece o Rio Grande do Norte com 64% de reprovação. \n",
    "\n",
    "Em relação a escolaridade dos alunos, os que possuem pior índice foram os da educação básica, sendo que os do ensino fundamental reprovaram em 73%, enquanto que os do nível médio ficaram em 59%.\n",
    "\n",
    "Com relação ao estado civil, os que tinham o valor 0 atribuído aos seus dados, tiveram uma proporção maior de reprovações, porém só existiam 3 alunos nesse caso, logo o resultado não traz muita informação. Os solteiros e os separados foram os que mais reprovaram passando do valor de 50%.\n",
    "\n",
    "Para ajudar o time de monitoria, de acordo com os dados, pode-se dizer que os alunos com menor grau de escolaridade, os solteiros e os separados são os mais problemáticos. Uma região que deve ter esforços redobrados para melhorar o seu índice de aprovação é o estado do Sergipe, onde apenas 30% dos alunos que prestaram a prova passaram."
   ]
  },
  {
   "cell_type": "markdown",
   "metadata": {},
   "source": [
    "Para prever se alunos com certas características serão aprovados ou não, quatro novos registros serão inseridos nos algorítmos treinados, são eles:\n",
    "    \n",
    "   - o aluno de Sergipe, que fará prova de manhã, do sexo masculino, solteiro, com ensino médio e fará a prova em janeiro. \n",
    "   - o aluno do Amazonas, que fará a prova de manhã, do sexo masculino, viúvo, com MBA e fará a prova em dezembro.\n",
    "   - a aluna de Piauí, que fará a prova de noite, do sexo feminino, casada, superior incompleto e que fará a prova em dezembro.\n",
    "   - a aluna de Minas Gerais, que fará a prova de noite, do sexo feminino, separada, com nível técnico e que fará a prova em dezembro.\n",
    "   \n",
    "OBS: As análises serão feitas uma por vez agora. Por exemplo, para o aluno 1 ser analisado, é necessário inserir as informações no atributo 'novo', rodar o código do primeiro aluno e depois rodar o \"Código para previsão do desempenho do aluno\". Para o aluno 2 é necessário repetir o processo, primeiro colocando as informações no atributo 'novo', rodar o código e em seguida rodar o \"Código para previsão do desempenho do aluno\", e assim para todos os novos dados que queiram analisar. Os valores de cada característica se encontram no apêndice no final deste documento. Caso seja necessário, no futuro transformarei em uma função para facilitar a inserção dos novos registros."
   ]
  },
  {
   "cell_type": "code",
   "execution_count": 72,
   "metadata": {},
   "outputs": [
    {
     "name": "stderr",
     "output_type": "stream",
     "text": [
      "/home/wagner/anaconda3/lib/python3.7/site-packages/sklearn/utils/validation.py:595: DataConversionWarning: Data with input dtype int64 was converted to float64 by StandardScaler.\n",
      "  warnings.warn(msg, DataConversionWarning)\n",
      "/home/wagner/anaconda3/lib/python3.7/site-packages/sklearn/utils/validation.py:595: DataConversionWarning: Data with input dtype int64 was converted to float64 by StandardScaler.\n",
      "  warnings.warn(msg, DataConversionWarning)\n"
     ]
    }
   ],
   "source": [
    "# Primeiro aluno:\n",
    "# 19 - Sergipe\n",
    "# 1 - manhã\n",
    "# 1 - Masculino\n",
    "# 4 - Solteiro\n",
    "# 2 - Ensino médio\n",
    "# 0 - mês 01\n",
    "\n",
    "novo =[[19, 1, 1, 4, 2, 0]]\n",
    "novo = np.asarray(novo)\n",
    "novo = novo.reshape(-1, 1)\n",
    "novo = scaler.fit_transform(novo)\n",
    "novo = novo.reshape(-1, 6)"
   ]
  },
  {
   "cell_type": "code",
   "execution_count": null,
   "metadata": {},
   "outputs": [],
   "source": [
    "# Segundo aluno:\n",
    "# 0 - Amazonas\n",
    "# 1 - manhã\n",
    "# 1 - Masculino\n",
    "# 5 - Viúvo\n",
    "# 4 - MBA\n",
    "# 3 - mês 12\n",
    "\n",
    "novo =[[0, 1, 1, 3, 4, 3]]\n",
    "novo = np.asarray(novo)\n",
    "novo = novo.reshape(-1, 1)\n",
    "novo = scaler.fit_transform(novo)\n",
    "novo = novo.reshape(-1, 6)"
   ]
  },
  {
   "cell_type": "code",
   "execution_count": null,
   "metadata": {},
   "outputs": [],
   "source": [
    "# Terceiro aluno:\n",
    "# 12 - Piauí\n",
    "# 0 - Noite\n",
    "# 0 - Feminino\n",
    "# 4 - Solteira\n",
    "# 9 - Superior incompleto\n",
    "# 3 - mês 12\n",
    "\n",
    "novo =[[12, 0, 0, 4, 9, 3]]\n",
    "novo = np.asarray(novo)\n",
    "novo = novo.reshape(-1, 1)\n",
    "novo = scaler.fit_transform(novo)\n",
    "novo = novo.reshape(-1, 6)"
   ]
  },
  {
   "cell_type": "code",
   "execution_count": null,
   "metadata": {},
   "outputs": [],
   "source": [
    "# Quarto aluno:\n",
    "# 6 - Minas Gerais\n",
    "# 0 - Noite\n",
    "# 0 - Feminino\n",
    "# 3 - Separada\n",
    "# 7 - nível técnico\n",
    "# 3 - mês 12\n",
    "\n",
    "novo =[[12, 0, 0, 1, 9, 3]]\n",
    "novo = np.asarray(novo)\n",
    "novo = novo.reshape(-1, 1)\n",
    "novo = scaler.fit_transform(novo)\n",
    "novo = novo.reshape(-1, 6)"
   ]
  },
  {
   "cell_type": "code",
   "execution_count": 73,
   "metadata": {},
   "outputs": [
    {
     "name": "stdout",
     "output_type": "stream",
     "text": [
      "Reprovado\n"
     ]
    }
   ],
   "source": [
    "# Código para previsão do desempenho do aluno\n",
    "a =classificador_nb.predict(novo)\n",
    "b= classificador_dt.predict(novo)\n",
    "c = classificador_rf.predict(novo)\n",
    "d = classificador_svm.predict(novo)\n",
    "e = classificador_rn.predict(novo)\n",
    "\n",
    "aprovado = 0\n",
    "reprovado = 0\n",
    "\n",
    "if a == 0:\n",
    "    aprovado += 1\n",
    "else:\n",
    "    reprovado += 1\n",
    "    \n",
    "if b == 0:\n",
    "    aprovado += 1\n",
    "else:\n",
    "    reprovado += 1\n",
    "    \n",
    "if c == 0:\n",
    "    aprovado += 1\n",
    "else:\n",
    "    reprovado += 1\n",
    "\n",
    "if d == 0:\n",
    "    aprovado += 1\n",
    "else:\n",
    "    reprovado += 1\n",
    "    \n",
    "if e == 0:\n",
    "    aprovado += 1\n",
    "else:\n",
    "    reprovado += 1\n",
    "    \n",
    "if aprovado > reprovado:\n",
    "    print(\"Aprovado\")\n",
    "else:\n",
    "    print('Reprovado')"
   ]
  },
  {
   "cell_type": "markdown",
   "metadata": {},
   "source": [
    "O resultado foi:\n",
    "   \n",
    "   - primeiro aluno: reprovado\n",
    "   - segundo aluno: aprovado\n",
    "   - terceiro aluno: reprovado\n",
    "   - quarto aluno: aprovado\n",
    "    \n",
    "Dos quatros alunos, três possuem a chance de serem aprovados e um reprovado. Este último é de Sergipe, solteiro e do ensino médio, características que representam risco de reprovação, como discutado acima."
   ]
  },
  {
   "cell_type": "markdown",
   "metadata": {},
   "source": [
    "# Respondendo as perguntas\n",
    "As respostas daqui são apenas um resumo de tudo o que foi analisado com exceção da questão 3.\n",
    "\n",
    "## Questão 1 - Quais as características principais do público-alvo?\n",
    "Os alunos que possuem maiores chances de ir bem nas provas são os com maior nível de escolaridade (MBA, mestrado, doutorado e especialização). Eles foram os que tiveram mais aprovações proporcionalmente ao número de alunos com o mesmo nível que prestaram as provas. Foi visto também que as regiões do Rio Grande do Sul, Amazonas e Rio de Janeiro alcançaram o maior número de alunos aprovados, proporcionalmente a todos os alunos que prestaram de suas regiões. E, por fim, as pessoas com estado civil viúvo(a) e divorciado(a) foram os que tiveram o melhor índice de aprovação, sendo que o índice é a taxa de alunos aprovados em relação aos que prestaram as provas do mesmo estado civil. O horário da realização das provas e o sexo dos alunos não foram um fator decisivo para irem bem ou não.\n",
    "\n",
    "## Questão 2 - Como você pode indicar quais são os alunos que necessitam de mais ajuda?\n",
    "Partindo do princípio que o aluno reprovado é o que precisa de ajuda, um jeito feito nesse trabalho para prever essa condição foi com o treinamento de algorítmos que, através de características do aluno, pudessem prever se ele será aprovado ou reprovado. Foi observado que as características que mais alteram os resultados dos algorítmos são: Local de realização da prova, escolaridade e estado civil. Variando esses 3 atributos, é possível prever o desempenho do aluno e, caso seja reprovado, indica a necessidade de ajuda. Porém vale considerar que ele não tem 100% de precisão. \n",
    "\n",
    "Depois da previsão utilizando o algorítmo é necessário observar as condições desse aluno e comparar com a análise feita mais acima. Como por exemplo, as pessoas com os piores índices são as com menores grau escolaridade, os solteiros e os separados. A região mais crítica é Sergipe, no qual obteve 70% de reprovações. Um exemplo claro de aluno que reprova foi o primeiro aluno testado no algorítmo, no qual suas características principais eram: ter feito a prova em Sergipe, ser solteiro e nível de escolaridade ensino médio. Observando essas características e toda a análise feita, pessoalmente, eu diria que os que mais necessitam de ajuda são os 25% piores alunos, que como visto mais acima, são os que tiram notas 3 ou menos e zero na redação. A nota zero da redação será melhor discutida na questão 3."
   ]
  },
  {
   "cell_type": "code",
   "execution_count": 74,
   "metadata": {},
   "outputs": [
    {
     "data": {
      "text/plain": [
       "Unnamed: 0                5635\n",
       "prova_realizada_em        5635\n",
       "dia_da_prova_realizada    5635\n",
       "nota                      5635\n",
       "nota_redacao              5635\n",
       "horario_da_prova          5635\n",
       "sexo                      5635\n",
       "estado_civil              5635\n",
       "escolaridade              5635\n",
       "cidade_de_nascimento      5635\n",
       "bairro                    5635\n",
       "dtype: int64"
      ]
     },
     "execution_count": 74,
     "metadata": {},
     "output_type": "execute_result"
    }
   ],
   "source": [
    "redacao_reprovados = base.query(\"nota_redacao == 0\")\n",
    "redacao_reprovados.count()"
   ]
  },
  {
   "cell_type": "code",
   "execution_count": 75,
   "metadata": {},
   "outputs": [
    {
     "data": {
      "text/plain": [
       "Solteiro(a)      3915\n",
       "Casado(a)        1464\n",
       "Divorciado(a)     177\n",
       "Separado(a)        66\n",
       "Viúvo(a)           11\n",
       "0                   2\n",
       "Name: estado_civil, dtype: int64"
      ]
     },
     "execution_count": 75,
     "metadata": {},
     "output_type": "execute_result"
    }
   ],
   "source": [
    "redacao_reprovados['estado_civil'].value_counts()"
   ]
  },
  {
   "cell_type": "code",
   "execution_count": 76,
   "metadata": {},
   "outputs": [
    {
     "data": {
      "text/plain": [
       "Ensino médio           4074\n",
       "Superior                814\n",
       "Superior incompleto     391\n",
       "Nível técnico           200\n",
       "Especialização          104\n",
       "Ensino fundamental       26\n",
       "Mestrado                 16\n",
       "MBA                       4\n",
       "Doutorado                 3\n",
       "Não informado             3\n",
       "Name: escolaridade, dtype: int64"
      ]
     },
     "execution_count": 76,
     "metadata": {},
     "output_type": "execute_result"
    }
   ],
   "source": [
    "redacao_reprovados['escolaridade'].value_counts()"
   ]
  },
  {
   "cell_type": "markdown",
   "metadata": {},
   "source": [
    "## Questão 3 - Qual outro insght ou informação você consegue extrair dos dados?\n",
    "\n",
    "Analisando os dados das pessoas que tiraram zero na prova de redação, observou-se que dos 12060 alunos analisados, 5630 tiraram zero na redação. Esse valor é assustador, pois é quase a metade de todos os alunos que fizeram a prova. O melhor insight que foi extraído dos dados, é de que falta informação para concluir algo sobre essas notas. Em outras palavras, considerando que qualquer texto simples que o aluno faça a sua nota será acima de zero, seria impossível reprovar nessa prova, em especial, alunos de MBA, mestrado e doutorado. Como é possível ver nos dados logo acima, 3 pessoas com escolaridade Doutorado, 4 de MBA e 16 de Mestrado reprovaram. Sendo assim, uma possibilidade é de que eles não fizeram a redação, caso isso seja verdade, seria interessante que esse dado apareça na base de dados. Isso ajudaria a saber que se alguém realmente tirar zero, é porque não sabe escrever e daí o time de monitoria de educação poderia entrar em ação para minimizar esse resultado negativo.\n"
   ]
  },
  {
   "cell_type": "markdown",
   "metadata": {},
   "source": [
    "# Apêndice\n",
    "Aqui estão os dados numéricos para se fazer previsões dos desempenhos de alunos.\n",
    "\n",
    "Codigo local da prova realizada:\n",
    "\n",
    "    0 - AM - Amazonas\n",
    "    1 - BA - Bahia\n",
    "    2 - CE - Ceará\n",
    "    3 - ES - Espírito Santo\n",
    "    4 - Go - Góias\n",
    "    5 - MA - Maranhão\n",
    "    6 - MG- Minas Gerais\n",
    "    7 - MS - Mato Grosso do Sul\n",
    "    8 - MT - Mato Grosso\n",
    "    9 - PA - Pará\n",
    "    10 - PB - Paraíba\n",
    "    11 - PE - Pernambuco\n",
    "    12 - PI - Piauí\n",
    "    13 - RJ - Rio de Janeiro\n",
    "    14 - RN - Rio Grande do norte\n",
    "    15 - RO - Rondônia\n",
    "    16 - RR - Roraima\n",
    "    17 - RS - Rio Grande do Sul\n",
    "    18 - SC - Santa Catarina\n",
    "    19 - SE - Sergipe\n",
    "    20 - TO - Tocantins\n",
    "################################\n",
    "\n",
    "Código do horário da prova:\n",
    "    \n",
    "    0 - Noite\n",
    "    1 - manhã \n",
    "###############################    \n",
    "Código do sexo:\n",
    "\n",
    "    0 - Feminino\n",
    "    1 - Masculino\n",
    "################################    \n",
    "Código do estado civil:\n",
    "\n",
    "    0 - 0\n",
    "    1 - Casado(a)\n",
    "    2 - Divorciado(a)\n",
    "    3 - Separado(a)\n",
    "    4 - Solteiro(a)\n",
    "    5 - Viúvo(a)\n",
    "    \n",
    "###############################    \n",
    "Código da escolaridade:\n",
    "\n",
    "    0 - Doutorado\n",
    "    1 - Ensino fundamental\n",
    "    2 - Ensino médio\n",
    "    3 - Especialização\n",
    "    4 - MBA\n",
    "    5 - Mestrado\n",
    "    6 - Não informado\n",
    "    7 - Nível técnico\n",
    "    8 - Superior\n",
    "    9 - Superior incompleto\n",
    "    \n",
    "###############################    \n",
    "Código do mês:\n",
    "\n",
    "    0 - 01\n",
    "    1 - 07\n",
    "    2 - 08\n",
    "    3 - 12"
   ]
  },
  {
   "cell_type": "code",
   "execution_count": null,
   "metadata": {},
   "outputs": [],
   "source": []
  }
 ],
 "metadata": {
  "kernelspec": {
   "display_name": "Python 3",
   "language": "python",
   "name": "python3"
  },
  "language_info": {
   "codemirror_mode": {
    "name": "ipython",
    "version": 3
   },
   "file_extension": ".py",
   "mimetype": "text/x-python",
   "name": "python",
   "nbconvert_exporter": "python",
   "pygments_lexer": "ipython3",
   "version": "3.7.3"
  }
 },
 "nbformat": 4,
 "nbformat_minor": 2
}
